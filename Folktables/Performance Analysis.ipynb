{
 "cells": [
  {
   "cell_type": "code",
   "execution_count": 1,
   "id": "3c8cd695",
   "metadata": {},
   "outputs": [],
   "source": [
    "# Load in the packages\n",
    "import numpy as np\n",
    "import folktables\n",
    "from folktables import ACSDataSource, ACSIncome\n",
    "\n",
    "import os\n",
    "import sys\n",
    "import copy\n",
    "sys.path.append('..')\n",
    "import random\n",
    "import FairCertModule\n",
    "from sklearn.preprocessing import StandardScaler\n",
    "from sklearn.model_selection import train_test_split\n",
    "\n",
    "import torch\n",
    "import torch.nn as nn\n",
    "import torch.optim as optim\n",
    "from torch.nn import functional as F\n",
    "from torch.utils.data import Dataset\n",
    "from torch.utils.data import DataLoader\n",
    "from torchvision import models, transforms\n",
    "from FullyConnected import FullyConnected\n",
    "import pytorch_lightning as pl\n",
    "\n",
    "# Set random seeds\n",
    "SEED = 0\n",
    "torch.manual_seed(SEED)\n",
    "random.seed(SEED)\n",
    "np.random.seed(SEED)\n",
    "\n",
    "dataset = \"Coverage\"\n",
    "if(dataset == \"Employ\"):\n",
    "    TEST_EPSILON = 0.075\n",
    "if(dataset == \"Coverage\"):\n",
    "    TEST_EPSILON = 0.25\n",
    "else:\n",
    "    TEST_EPSILON = 0.05   \n"
   ]
  },
  {
   "cell_type": "code",
   "execution_count": 2,
   "id": "fb872059",
   "metadata": {},
   "outputs": [
    {
     "name": "stderr",
     "output_type": "stream",
     "text": [
      "/Users/matthewwicker/opt/anaconda3/envs/FairnessEnv/lib/python3.7/site-packages/numpy/lib/function_base.py:2691: RuntimeWarning: invalid value encountered in true_divide\n",
      "  c /= stddev[:, None]\n",
      "/Users/matthewwicker/opt/anaconda3/envs/FairnessEnv/lib/python3.7/site-packages/numpy/lib/function_base.py:2692: RuntimeWarning: invalid value encountered in true_divide\n",
      "  c /= stddev[None, :]\n",
      "/Users/matthewwicker/opt/anaconda3/envs/FairnessEnv/lib/python3.7/site-packages/sklearn/decomposition/_truncated_svd.py:234: RuntimeWarning: invalid value encountered in true_divide\n",
      "  self.explained_variance_ratio_ = exp_var / full_var\n"
     ]
    }
   ],
   "source": [
    "# Data loaders\n",
    "import folk_utils\n",
    "X_train, X_test, X_val, y_train, y_test, y_val, lp_epsilon, sr_epsilon, g_train, g_test, g_val = folk_utils.get_dataset(dataset, groups=True)\n",
    "f_epsilon = lp_epsilon"
   ]
  },
  {
   "cell_type": "code",
   "execution_count": 3,
   "id": "06691fde",
   "metadata": {},
   "outputs": [
    {
     "name": "stdout",
     "output_type": "stream",
     "text": [
      "108058\n",
      "59582.0\n"
     ]
    }
   ],
   "source": [
    "print(len(g_train))\n",
    "print(sum(g_train))"
   ]
  },
  {
   "cell_type": "code",
   "execution_count": 4,
   "id": "eb167a8a",
   "metadata": {},
   "outputs": [],
   "source": [
    "# Load in the trained models\n",
    "\n",
    "MODEL_STATE  = 'CA'\n",
    "MODEL_YEAR   = '2015'\n",
    "MODEL_WIDTH  = '256'\n",
    "MODEL_METRIC = 'LP'\n",
    "\n",
    "sgd_id = \"SGD\" \n",
    "pgd_id = \"FAIR-PGD\" \n",
    "ibp_id = \"FAIR-IBP\" \n",
    "glob_id = \"FAIR-DRO\"\n",
    "ibpg_id = \"FAIR-IBPG\"\n",
    "\n",
    "def load_model_from_id(model_id, dataset, width=MODEL_WIDTH):\n",
    "    model = FullyConnected(hidden_lay=2, hidden_dim=256, dataset=dataset)\n",
    "    ckpt = torch.load(\"%sModels/%s.ckpt\"%(dataset, model_id))\n",
    "    optimizer = optim.SGD(model.parameters(), lr=0.001, momentum=0.9)\n",
    "    checkpoint = torch.load(\"%sModels/%s.ckpt\"%(dataset, model_id))\n",
    "    model.load_state_dict(torch.load('%sModels/%s.pt'%(dataset, model_id)))\n",
    "    return model\n",
    "\n",
    "sgd_model = load_model_from_id(sgd_id, dataset)\n",
    "pgd_model = load_model_from_id(pgd_id, dataset)\n",
    "ibp_model = load_model_from_id(ibp_id, dataset)\n",
    "glob_model = load_model_from_id(glob_id, dataset)\n",
    "ibpg_model = load_model_from_id(ibpg_id, dataset)\n"
   ]
  },
  {
   "cell_type": "code",
   "execution_count": 5,
   "id": "4acc997f",
   "metadata": {},
   "outputs": [],
   "source": [
    "from folk_utils import evaluate_accuracy, evaluate_delta_PGD, evaluate_delta_IBP"
   ]
  },
  {
   "cell_type": "code",
   "execution_count": 6,
   "id": "4bd2e57d",
   "metadata": {},
   "outputs": [],
   "source": [
    "sgd_acc = evaluate_accuracy(sgd_model, X_test, y_test)\n",
    "pgd_acc = evaluate_accuracy(pgd_model, X_test, y_test)\n",
    "ibp_acc = evaluate_accuracy(ibp_model, X_test, y_test)\n",
    "glob_acc = evaluate_accuracy(glob_model, X_test, y_test) \n",
    "ibpg_acc = evaluate_accuracy(ibpg_model, X_test, y_test)"
   ]
  },
  {
   "cell_type": "code",
   "execution_count": 7,
   "id": "c44a9b11",
   "metadata": {},
   "outputs": [
    {
     "name": "stdout",
     "output_type": "stream",
     "text": [
      "tensor(0.7213)\n",
      "tensor(0.7090)\n",
      "tensor(0.6994)\n",
      "tensor(0.6993)\n",
      "tensor(0.6810)\n"
     ]
    }
   ],
   "source": [
    "print(sgd_acc)\n",
    "print(pgd_acc)\n",
    "print(ibp_acc)\n",
    "print(glob_acc)\n",
    "print(ibpg_acc)"
   ]
  },
  {
   "cell_type": "code",
   "execution_count": 8,
   "id": "68b31f3c",
   "metadata": {},
   "outputs": [
    {
     "name": "stdout",
     "output_type": "stream",
     "text": [
      "torch.Size([16471, 44])\n",
      "tensor(0.0009)\n",
      "tensor(0.)\n",
      "tensor(0.)\n",
      "tensor(0.)\n",
      "tensor(0.)\n"
     ]
    }
   ],
   "source": [
    "# Evaluate equalized accuracy\n",
    "majority = np.squeeze(np.argwhere(g_test == 1))\n",
    "minority = np.squeeze(np.argwhere(g_test == 0))\n",
    "\n",
    "print(X_test[np.squeeze(majority)].shape)\n",
    "sgd_acc_maj = evaluate_accuracy(sgd_model, X_test[majority], y_test[majority])\n",
    "pgd_acc_maj = evaluate_accuracy(pgd_model, X_test[majority], y_test[majority])\n",
    "ibp_acc_maj = evaluate_accuracy(ibp_model, X_test[majority], y_test[majority])\n",
    "glob_acc_maj = evaluate_accuracy(glob_model, X_test[majority], y_test[majority])\n",
    "ibpg_acc_maj = evaluate_accuracy(ibpg_model, X_test[majority], y_test[majority])\n",
    "\n",
    "sgd_acc_min = evaluate_accuracy(sgd_model, X_test[minority], y_test[minority])\n",
    "pgd_acc_min = evaluate_accuracy(pgd_model, X_test[minority], y_test[minority])\n",
    "ibp_acc_min = evaluate_accuracy(ibp_model, X_test[minority], y_test[minority])\n",
    "glob_acc_min = evaluate_accuracy(glob_model, X_test[minority], y_test[minority])\n",
    "ibpg_acc_min = evaluate_accuracy(ibpg_model, X_test[minority], y_test[minority])\n",
    "\n",
    "print(abs(sgd_acc_maj - sgd_acc_min))\n",
    "print(abs(pgd_acc_maj - pgd_acc_maj))\n",
    "print(abs(ibp_acc_maj - ibp_acc_maj))\n",
    "print(abs(glob_acc_maj - glob_acc_maj))\n",
    "print(abs(ibpg_acc_maj - ibpg_acc_maj))\n"
   ]
  },
  {
   "cell_type": "code",
   "execution_count": 9,
   "id": "424f7799",
   "metadata": {},
   "outputs": [],
   "source": [
    "# Demo-Parity Computation\n",
    "def demographic_parity(model, X, y, g):\n",
    "    g = torch.Tensor(g).type(torch.LongTensor)\n",
    "    g = torch.clip(g, 0, 1)\n",
    "    y_hat = torch.nn.functional.softmax(model(X))\n",
    "    y_hat = torch.squeeze(y_hat)\n",
    "    y_maj = torch.squeeze(y_hat[torch.squeeze(torch.argwhere(g == 0))])\n",
    "    y_min = torch.squeeze(y_hat[torch.squeeze(torch.argwhere(g == 1))])\n",
    "    total_rate = torch.sum(torch.argmax(y_hat, axis=1))/len(torch.argmax(y_hat, axis=1))\n",
    "    maj_rate   = torch.sum(torch.argmax(y_maj, axis=1))/len(torch.argmax(y_maj, axis=1))\n",
    "    min_rate   = torch.sum(torch.argmax(y_min, axis=1))/len(torch.argmax(y_min, axis=1))\n",
    "    #abs(total_rate - maj_rate) + abs(total_rate - min_rate)\n",
    "    return float(abs(maj_rate - min_rate).detach().numpy()) \n",
    "\n",
    " \n",
    "def equalized_odds(model, X, y, g):\n",
    "    g = torch.Tensor(g).type(torch.LongTensor)\n",
    "    y_hat = torch.nn.functional.softmax(model(X))\n",
    "    y_hat = torch.squeeze(y_hat)\n",
    "    y_true_maj = torch.squeeze(y[torch.squeeze(torch.argwhere(g == 0))])\n",
    "    y_true_min = torch.squeeze(y[torch.squeeze(torch.argwhere(g == 1))])\n",
    "    y_maj = torch.squeeze(y_hat[torch.squeeze(torch.argwhere(g == 0))])\n",
    "    y_min = torch.squeeze(y_hat[torch.squeeze(torch.argwhere(g == 1))])\n",
    "    temp = y_min[torch.squeeze(torch.argwhere(y_true_min == 1))]\n",
    "    pos_min_rate = torch.sum(torch.argmax(temp, axis=1))/len(torch.argmax(temp, axis=1))\n",
    "    temp = y_min[torch.squeeze(torch.argwhere(y_true_min == 0))]\n",
    "    neg_min_rate = torch.sum(1-torch.argmax(temp, axis=1))/len(torch.argmax(temp, axis=1)) \n",
    "    temp = y_maj[torch.squeeze(torch.argwhere(y_true_maj == 1))]\n",
    "    pos_maj_rate = torch.sum(torch.argmax(temp, axis=1))/len(torch.argmax(temp, axis=1))\n",
    "    temp = y_maj[torch.squeeze(torch.argwhere(y_true_maj == 0))]\n",
    "    neg_maj_rate = torch.sum(1-torch.argmax(temp, axis=1))/len(torch.argmax(temp, axis=1))\n",
    "    return float(abs(pos_min_rate - pos_maj_rate) + abs(neg_min_rate - neg_maj_rate))\n",
    "\n",
    "# Eq Opp Computation\n",
    "def equalized_opportunity(model, X, y, g):\n",
    "    g = torch.Tensor(g).type(torch.LongTensor)\n",
    "    y_hat = torch.nn.functional.softmax(model(X))\n",
    "    y_hat = torch.squeeze(y_hat)\n",
    "    y_true_maj = torch.squeeze(y[torch.squeeze(torch.argwhere(g == 0))])\n",
    "    y_true_min = torch.squeeze(y[torch.squeeze(torch.argwhere(g == 1))])\n",
    "    y_maj = torch.squeeze(y_hat[torch.squeeze(torch.argwhere(g == 0))])\n",
    "    y_min = torch.squeeze(y_hat[torch.squeeze(torch.argwhere(g == 1))])\n",
    "    temp = y_min[torch.squeeze(torch.argwhere(y_true_min == 1))]\n",
    "    pos_min_rate = torch.sum(torch.argmax(temp, axis=1))/len(torch.argmax(temp, axis=1))\n",
    "\n",
    "    temp = y_maj[torch.squeeze(torch.argwhere(y_true_maj == 1))]\n",
    "    pos_maj_rate = torch.sum(torch.argmax(temp, axis=1))/len(torch.argmax(temp, axis=1))\n",
    "    \n",
    "    return float(abs(pos_min_rate - pos_maj_rate))"
   ]
  },
  {
   "cell_type": "code",
   "execution_count": 10,
   "id": "4255d7be",
   "metadata": {},
   "outputs": [
    {
     "name": "stdout",
     "output_type": "stream",
     "text": [
      "0.006408393383026123\n",
      "0.05595281720161438\n",
      "0.033047959208488464\n",
      "0.03253581374883652\n",
      "0.028308406472206116\n"
     ]
    },
    {
     "name": "stderr",
     "output_type": "stream",
     "text": [
      "/Users/matthewwicker/opt/anaconda3/envs/FairnessEnv/lib/python3.7/site-packages/ipykernel_launcher.py:5: UserWarning: Implicit dimension choice for softmax has been deprecated. Change the call to include dim=X as an argument.\n",
      "  \"\"\"\n"
     ]
    }
   ],
   "source": [
    "# Evaluate demographic parity\n",
    "\n",
    "sgd_dp = demographic_parity(sgd_model, X_test, y_test, g_test)\n",
    "pgd_dp = demographic_parity(pgd_model, X_test, y_test, g_test)\n",
    "ibp_dp = demographic_parity(ibp_model, X_test, y_test, g_test)\n",
    "glob_dp = demographic_parity(glob_model, X_test, y_test, g_test)\n",
    "ibpg_dp = demographic_parity(ibpg_model, X_test, y_test, g_test)\n",
    "\n",
    "print(sgd_dp)\n",
    "print(pgd_dp)\n",
    "print(ibp_dp)\n",
    "print(glob_dp)\n",
    "print(ibpg_dp)"
   ]
  },
  {
   "cell_type": "code",
   "execution_count": 11,
   "id": "b75bdb75",
   "metadata": {},
   "outputs": [
    {
     "name": "stderr",
     "output_type": "stream",
     "text": [
      "/Users/matthewwicker/opt/anaconda3/envs/FairnessEnv/lib/python3.7/site-packages/ipykernel_launcher.py:18: UserWarning: Implicit dimension choice for softmax has been deprecated. Change the call to include dim=X as an argument.\n"
     ]
    },
    {
     "name": "stdout",
     "output_type": "stream",
     "text": [
      "0.023339271545410156\n",
      "0.11253297328948975\n",
      "0.07027119398117065\n",
      "0.06945055723190308\n",
      "0.0648534744977951\n"
     ]
    }
   ],
   "source": [
    "# Evaluate demographic parity\n",
    "\n",
    "sgd_eo = equalized_odds(sgd_model, X_test, y_test, g_test)\n",
    "pgd_eo = equalized_odds(pgd_model, X_test, y_test, g_test)\n",
    "ibp_eo = equalized_odds(ibp_model, X_test, y_test, g_test)\n",
    "glob_eo = equalized_odds(glob_model, X_test, y_test, g_test)\n",
    "ibpg_eo = equalized_odds(ibpg_model, X_test, y_test, g_test)\n",
    "\n",
    "print(sgd_eo)\n",
    "print(pgd_eo)\n",
    "print(ibp_eo)\n",
    "print(glob_eo)\n",
    "print(ibpg_eo)\n"
   ]
  },
  {
   "cell_type": "code",
   "execution_count": 12,
   "id": "da758cea",
   "metadata": {},
   "outputs": [
    {
     "name": "stdout",
     "output_type": "stream",
     "text": [
      "0.008268654346466064\n",
      "0.0748489499092102\n",
      "0.055429697036743164\n",
      "0.054843127727508545\n",
      "0.05468307435512543\n"
     ]
    },
    {
     "name": "stderr",
     "output_type": "stream",
     "text": [
      "/Users/matthewwicker/opt/anaconda3/envs/FairnessEnv/lib/python3.7/site-packages/ipykernel_launcher.py:37: UserWarning: Implicit dimension choice for softmax has been deprecated. Change the call to include dim=X as an argument.\n"
     ]
    }
   ],
   "source": [
    "# Evaluate equalized opp\n",
    "\n",
    "sgd_eo = equalized_opportunity(sgd_model, X_test, y_test, g_test)\n",
    "pgd_eo = equalized_opportunity(pgd_model, X_test, y_test, g_test)\n",
    "ibp_eo = equalized_opportunity(ibp_model, X_test, y_test, g_test)\n",
    "glob_eo = equalized_opportunity(glob_model, X_test, y_test, g_test)\n",
    "ibpg_eo = equalized_opportunity(ibpg_model, X_test, y_test, g_test)\n",
    "\n",
    "print(sgd_eo)\n",
    "print(pgd_eo)\n",
    "print(ibp_eo)\n",
    "print(glob_eo)\n",
    "print(ibpg_eo)\n"
   ]
  },
  {
   "cell_type": "code",
   "execution_count": 13,
   "id": "091acb06",
   "metadata": {},
   "outputs": [
    {
     "name": "stdout",
     "output_type": "stream",
     "text": [
      "0.0\n",
      "0.009640098\n",
      "0.008532524\n",
      "0.0066285953\n",
      "0.0008978583\n"
     ]
    }
   ],
   "source": [
    "from folk_utils import evaluate_accuracy, evaluate_delta_PGD, evaluate_delta_IBP\n",
    "f_epsilon = torch.Tensor(f_epsilon)\n",
    "\n",
    "def differential_IF(model, X, y, g):\n",
    "    majority = np.squeeze(np.argwhere(g == 1))\n",
    "    minority = np.squeeze(np.argwhere(g == 0))\n",
    "    maj_delta = evaluate_delta_IBP(model, X[majority], y[majority], f_epsilon, TEST_EPSILON, 2)\n",
    "    min_delta = evaluate_delta_IBP(model, X[minority], y[minority], f_epsilon, TEST_EPSILON, 2)\n",
    "    return abs(maj_delta - min_delta)\n",
    "\n",
    "sgd_eo = differential_IF(sgd_model, X_test, y_test, g_test)\n",
    "pgd_eo = differential_IF(pgd_model, X_test, y_test, g_test)\n",
    "ibp_eo = differential_IF(ibp_model, X_test, y_test, g_test)\n",
    "glob_eo = differential_IF(glob_model, X_test, y_test, g_test)\n",
    "ibpg_eo = differential_IF(ibpg_model, X_test, y_test, g_test)\n",
    "\n",
    "print(sgd_eo)\n",
    "print(pgd_eo)\n",
    "print(ibp_eo)\n",
    "print(glob_eo)\n",
    "print(ibpg_eo)"
   ]
  }
 ],
 "metadata": {
  "kernelspec": {
   "display_name": "Python 3 (ipykernel)",
   "language": "python",
   "name": "python3"
  },
  "language_info": {
   "codemirror_mode": {
    "name": "ipython",
    "version": 3
   },
   "file_extension": ".py",
   "mimetype": "text/x-python",
   "name": "python",
   "nbconvert_exporter": "python",
   "pygments_lexer": "ipython3",
   "version": "3.7.13"
  }
 },
 "nbformat": 4,
 "nbformat_minor": 5
}
