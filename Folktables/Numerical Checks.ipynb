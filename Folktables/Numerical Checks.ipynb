{
 "cells": [
  {
   "cell_type": "code",
   "execution_count": 1,
   "id": "1dc03928",
   "metadata": {},
   "outputs": [],
   "source": [
    "# Load in the packages\n",
    "import numpy as np\n",
    "import folktables\n",
    "from folktables import ACSDataSource, ACSIncome\n",
    "\n",
    "import os\n",
    "import sys\n",
    "import copy\n",
    "sys.path.append('..')\n",
    "import random\n",
    "import FairCertModule\n",
    "from sklearn.preprocessing import StandardScaler\n",
    "from sklearn.model_selection import train_test_split\n",
    "\n",
    "import torch\n",
    "import torch.nn as nn\n",
    "import torch.optim as optim\n",
    "from torch.nn import functional as F\n",
    "from torch.utils.data import Dataset\n",
    "from torch.utils.data import DataLoader\n",
    "from torchvision import models, transforms\n",
    "from FullyConnected import FullyConnected\n",
    "import pytorch_lightning as pl\n",
    "\n",
    "# Set random seeds\n",
    "SEED = 0\n",
    "torch.manual_seed(SEED)\n",
    "random.seed(SEED)\n",
    "np.random.seed(SEED)\n",
    "\n",
    "dataset = \"Folk\"\n",
    "if(dataset == \"Employ\"):\n",
    "    TEST_EPSILON = 0.075\n",
    "if(dataset == \"Coverage\"):\n",
    "    TEST_EPSILON = 0.15\n",
    "else:\n",
    "    TEST_EPSILON = 0.05   \n"
   ]
  },
  {
   "cell_type": "code",
   "execution_count": 2,
   "id": "579c7076",
   "metadata": {},
   "outputs": [
    {
     "name": "stderr",
     "output_type": "stream",
     "text": [
      "/Users/matthewwicker/opt/anaconda3/envs/FairnessEnv/lib/python3.7/site-packages/sklearn/decomposition/_truncated_svd.py:234: RuntimeWarning: invalid value encountered in true_divide\n",
      "  self.explained_variance_ratio_ = exp_var / full_var\n"
     ]
    }
   ],
   "source": [
    "# Data loaders\n",
    "import folk_utils\n",
    "if(dataset in [\"Employ\", \"Folk\", \"Insurance\", \"Coverage\"]):\n",
    "    X_train, X_test, X_val, y_train, y_test, y_val, lp_epsilon, sr_epsilon = folk_utils.get_dataset(dataset)\n",
    "    f_epsilon = lp_epsilon\n",
    "elif(dataset in [\"Adult\", \"Credit\", \"German\"]):\n",
    "    X_train, X_test, X_val, y_train, y_test, y_val, lp_epsilon, sr_epsilon = folk_utils.get_UCI_dataset(dataset)\n",
    "    X_train = torch.Tensor(X_train); y_train = torch.Tensor(y_train)\n",
    "    X_test = torch.Tensor(X_test); y_test = torch.Tensor(y_test)\n",
    "    f_epsilon = torch.Tensor(lp_epsilon)"
   ]
  },
  {
   "cell_type": "code",
   "execution_count": 3,
   "id": "ef02bff0",
   "metadata": {},
   "outputs": [],
   "source": [
    "# Load in the trained models\n",
    "\n",
    "MODEL_STATE  = 'CA'\n",
    "MODEL_YEAR   = '2015'\n",
    "MODEL_WIDTH  = '256'\n",
    "MODEL_METRIC = 'LP'\n",
    "\n",
    "sgd_id = \"SGD\" \n",
    "pgd_id = \"FAIR-PGD\" \n",
    "ibp_id = \"FAIR-IBP\" \n",
    "glob_id = \"FAIR-DRO\"\n",
    "ibpg_id = \"FAIR-IBPG\"\n",
    "\n",
    "def load_model_from_id(model_id, dataset, width=MODEL_WIDTH):\n",
    "    if(model_id == \"Toy\"):\n",
    "        model = FullyConnected(hidden_lay=2, hidden_dim=16, dataset=dataset)\n",
    "    else:\n",
    "        model = FullyConnected(hidden_lay=2, hidden_dim=256, dataset=dataset)\n",
    "    ckpt = torch.load(\"%sModels/%s.ckpt\"%(dataset, model_id))\n",
    "    optimizer = optim.SGD(model.parameters(), lr=0.001, momentum=0.9)\n",
    "    checkpoint = torch.load(\"%sModels/%s.ckpt\"%(dataset, model_id))\n",
    "    model.load_state_dict(torch.load('%sModels/%s.pt'%(dataset, model_id)))\n",
    "    return model\n",
    "\n",
    "sgd_model = load_model_from_id(sgd_id, dataset)\n",
    "pgd_model = load_model_from_id(pgd_id, dataset)\n",
    "ibp_model = load_model_from_id(ibp_id, dataset)\n",
    "glob_model = load_model_from_id(glob_id, dataset)\n",
    "ibpg_model = load_model_from_id(ibpg_id, dataset)\n",
    "\n",
    "test_model = glob_model"
   ]
  },
  {
   "cell_type": "code",
   "execution_count": 4,
   "id": "b4333cc6",
   "metadata": {},
   "outputs": [],
   "source": [
    "#Implimenting a numerical solution\n",
    "from tqdm import tqdm\n",
    "def numerical_solution(model, delta, gamma, N, D):\n",
    "    \n",
    "    gridp = np.linspace(delta, ((N)*gamma) + delta , D)\n",
    "    values = []\n",
    "    for g in gridp:\n",
    "        v = I(model, X_test[0:N].float(), y_test[0:N].long(), f_epsilon, g, 2).detach().numpy()\n",
    "        values.append(v)\n",
    "    values = np.asarray(values).T\n",
    "\n",
    "    def compute_reward(values, indexes):\n",
    "        reward = 0\n",
    "        for i in range(len(indexes)):\n",
    "            reward += values[i][indexes[i]]\n",
    "        return reward/len(indexes)\n",
    "\n",
    "    def sums(length, total_sum):\n",
    "        \"\"\"\n",
    "        https://stackoverflow.com/questions/7748442/generate-all-possible-lists-of-length-n-that-sum-to-s-in-python\n",
    "        \"\"\"\n",
    "        if length == 1:\n",
    "            yield (total_sum,)\n",
    "        else:\n",
    "            for value in range(total_sum + 1):\n",
    "                for permutation in sums(length - 1, total_sum - value):\n",
    "                    yield (value,) + permutation\n",
    "                    \n",
    "    #print(\"Generating permutations...\")\n",
    "    permutations = list(sums(N,D-1))\n",
    "    print(\"Computing maximum value...\")\n",
    "    rewards = []\n",
    "    for p in tqdm(permutations):\n",
    "        r = compute_reward(values,p)\n",
    "        rewards.append(r)\n",
    "        #print(p, r)\n",
    "\n",
    "    var_phi = []\n",
    "    ifvs = []\n",
    "    best = permutations[np.argmax(rewards)]\n",
    "    for i in range(len(best)):\n",
    "        var_phi.append(gridp[best[i]])\n",
    "        ifvs.append(values[i][best[i]])\n",
    "    #print(\"numerical phi: \", sum(var_phi)/N)\n",
    "    return max(rewards), ifvs, var_phi\n"
   ]
  },
  {
   "cell_type": "code",
   "execution_count": 5,
   "id": "b0b85698",
   "metadata": {},
   "outputs": [
    {
     "name": "stderr",
     "output_type": "stream",
     "text": [
      "/Users/matthewwicker/Desktop/Development/CertificationOfDistributionalIF/Folktables/folk_utils.py:398: UserWarning: Creating a tensor from a list of numpy.ndarrays is extremely slow. Please consider converting the list to a single numpy.ndarray with numpy.array() before converting to a tensor. (Triggered internally at  /Users/runner/work/_temp/anaconda/conda-bld/pytorch_1659484744261/work/torch/csrc/utils/tensor_new.cpp:204.)\n",
      "  v = torch.Tensor([f_epsilon for i in range(N)]).float()\n",
      "100%|██████████████████████████████████████| 1000/1000 [00:01<00:00, 563.10it/s]\n"
     ]
    },
    {
     "name": "stdout",
     "output_type": "stream",
     "text": [
      "Computing maximum value...\n"
     ]
    },
    {
     "name": "stderr",
     "output_type": "stream",
     "text": [
      "100%|███████████████████████████████████████| 20/20 [00:00<00:00, 139114.56it/s]\n"
     ]
    }
   ],
   "source": [
    "from folk_utils import I\n",
    "from folk_utils import compute_DIF_certification\n",
    "\n",
    "delta = 0.025\n",
    "gamma = 0.1\n",
    "N = 2\n",
    "D = 20\n",
    "\n",
    "val, trend, vg = compute_DIF_certification(test_model, f_epsilon, gamma, delta, \n",
    "                                       X_test, y_test, N=N, iters=1000, rettrend=True, lr = 0.01)\n",
    "\n",
    "num, rew, phi = numerical_solution(test_model, delta, gamma, N, D)\n",
    "\n"
   ]
  },
  {
   "cell_type": "code",
   "execution_count": 6,
   "id": "663475b5",
   "metadata": {},
   "outputs": [
    {
     "name": "stdout",
     "output_type": "stream",
     "text": [
      "torch.Size([2, 1])\n",
      "tensor([[0.1632],\n",
      "        [0.0868]], grad_fn=<AddBackward0>)\n",
      "0.23916256427764893\n",
      "0.11844240128993988\n",
      "0.1788024827837944\n"
     ]
    }
   ],
   "source": [
    "print(vg.shape)\n",
    "print(vg)\n",
    "v0 = float(I(test_model, X_test[0:1].float(), y_test[0:1].long(), f_epsilon, float(vg[0]), 2).detach())\n",
    "v1 = float(I(test_model, X_test[1:2].float(), y_test[1:2].long(), f_epsilon, float(vg[1]), 2).detach())\n",
    "print(v0)\n",
    "print(v1)\n",
    "print((v0 + v1) /2)\n",
    "#v2 = I(ibpg_model, X_test[0:2].float(), y_test[0:2].long(), f_epsilon, delta + vg.numpy(), 2).detach()\n",
    "#print(v2/2)"
   ]
  },
  {
   "cell_type": "code",
   "execution_count": 7,
   "id": "55bd89c7",
   "metadata": {},
   "outputs": [
    {
     "name": "stdout",
     "output_type": "stream",
     "text": [
      "[0.225, 0.025]\n",
      "tensor([[0.1632],\n",
      "        [0.0868]], grad_fn=<AddBackward0>)\n"
     ]
    }
   ],
   "source": [
    "print(phi)\n",
    "print(vg)"
   ]
  },
  {
   "cell_type": "code",
   "execution_count": 8,
   "id": "0df59bc6",
   "metadata": {},
   "outputs": [
    {
     "data": {
      "image/png": "[encoded data removed]",
      "text/plain": [
       "<Figure size 432x288 with 1 Axes>"
      ]
     },
     "metadata": {
      "needs_background": "light"
     },
     "output_type": "display_data"
    }
   ],
   "source": [
    "import matplotlib\n",
    "import matplotlib.pyplot as plt\n",
    "\n",
    "plt.axhline(y=num, color='r', linestyle='--')\n",
    "plt.plot(trend)\n",
    "plt.show()"
   ]
  },
  {
   "cell_type": "code",
   "execution_count": 20,
   "id": "2bffbfbb",
   "metadata": {},
   "outputs": [
    {
     "name": "stderr",
     "output_type": "stream",
     "text": [
      "100%|██████████████████████████████████████| 1000/1000 [00:02<00:00, 396.45it/s]\n"
     ]
    },
    {
     "name": "stdout",
     "output_type": "stream",
     "text": [
      "Computing maximum value...\n"
     ]
    },
    {
     "name": "stderr",
     "output_type": "stream",
     "text": [
      "100%|█████████████████████████████████| 42504/42504 [00:00<00:00, 127516.96it/s]"
     ]
    },
    {
     "name": "stdout",
     "output_type": "stream",
     "text": [
      "0.2980793402181007\n",
      "0.4031439423561096\n"
     ]
    },
    {
     "name": "stderr",
     "output_type": "stream",
     "text": [
      "\n"
     ]
    }
   ],
   "source": [
    "N = 20\n",
    "D = 6\n",
    "gamma = 0.005\n",
    "delta = 0.001\n",
    "# IBP LR - 0.5\n",
    "val, trend, vg = compute_DIF_certification(sgd_model, f_epsilon, gamma, delta, \n",
    "                                       X_test, y_test, N=N, iters=1000, rettrend=True, lr = 10.0)\n",
    "\n",
    "num, rew, phi = numerical_solution(sgd_model, delta, gamma, N, D)\n",
    "\n",
    "print(num)\n",
    "print(float(val.detach()))\n",
    "\n"
   ]
  },
  {
   "cell_type": "code",
   "execution_count": 21,
   "id": "f8d7f0b8",
   "metadata": {},
   "outputs": [],
   "source": [
    "\n",
    "v = I(sgd_model, X_test[0:N].float(), y_test[0:N].long(), f_epsilon, np.asarray([phi]).T, 2).detach().numpy()\n"
   ]
  },
  {
   "cell_type": "code",
   "execution_count": 22,
   "id": "eb95e9ce",
   "metadata": {},
   "outputs": [
    {
     "name": "stdout",
     "output_type": "stream",
     "text": [
      "0.2980793\n",
      "0.4031439423561096\n"
     ]
    }
   ],
   "source": [
    "print(np.mean(v))\n",
    "print(float(val.detach()))"
   ]
  },
  {
   "cell_type": "code",
   "execution_count": 23,
   "id": "88279b87",
   "metadata": {},
   "outputs": [
    {
     "data": {
      "image/png": "[encoded data removed]",
      "text/plain": [
       "<Figure size 600x600 with 1 Axes>"
      ]
     },
     "metadata": {},
     "output_type": "display_data"
    }
   ],
   "source": [
    "import matplotlib\n",
    "import matplotlib.pyplot as plt\n",
    "import seaborn as sns\n",
    "\n",
    "sns.set_context('poster')\n",
    "sns.set_style('whitegrid')\n",
    "plt.figure(figsize=(6,6), dpi=100)\n",
    "plt.axhline(y=num, color='r', linestyle='--')\n",
    "plt.plot(trend)\n",
    "#plt.ylim((0.09, 0.145))\n",
    "ax = plt.gca()\n",
    "ax.set_title('Convergence w/ U-DIF Model\\n$\\gamma=1e-1$, $\\delta=5e-2$', wrap=False)\n",
    "plt.ylabel(r'DIF Certificate')\n",
    "plt.xlabel('Subgradient Iterations')\n",
    "plt.show()\n",
    "\n",
    "#SGD - \n",
    "#gamma = 0.001\n",
    "#delta = 0.0005"
   ]
  },
  {
   "cell_type": "code",
   "execution_count": 13,
   "id": "3fbad190",
   "metadata": {},
   "outputs": [
    {
     "name": "stdout",
     "output_type": "stream",
     "text": [
      "[0.51 0.51 0.51 0.51 0.51 0.51 0.51 0.51 0.51 0.51 0.51 0.51 0.51 0.51\n",
      " 0.51 0.51 0.51 0.51 0.51 0.51] 0.51000005\n",
      "[0.01 0.01 0.01 0.01 2.01 0.01 0.01 2.01 2.01 2.01 2.01 0.01 0.01 0.01\n",
      " 0.01 0.01 0.01 0.01 0.01 0.01] 0.5099999999999998\n"
     ]
    }
   ],
   "source": [
    "\n",
    "print(np.round(np.squeeze(vg.detach().numpy()), 2), np.mean(vg.detach().numpy()))\n",
    "print(np.asarray(phi), np.mean(phi))\n"
   ]
  },
  {
   "cell_type": "code",
   "execution_count": 14,
   "id": "b5321010",
   "metadata": {},
   "outputs": [
    {
     "name": "stderr",
     "output_type": "stream",
     "text": [
      "100%|████████████████████████████████████████| 500/500 [00:01<00:00, 410.62it/s]\n",
      "100%|████████████████████████████████████████| 750/750 [00:01<00:00, 407.98it/s]\n"
     ]
    },
    {
     "name": "stdout",
     "output_type": "stream",
     "text": [
      "Computing maximum value...\n"
     ]
    },
    {
     "name": "stderr",
     "output_type": "stream",
     "text": [
      "100%|█████████████████████████████████| 54264/54264 [00:00<00:00, 146621.05it/s]\n"
     ]
    },
    {
     "name": "stdout",
     "output_type": "stream",
     "text": [
      "tensor(-0.0238, grad_fn=<SubBackward0>) tensor(0.1344, grad_fn=<MeanBackward0>) 0.15821299421077128\n"
     ]
    },
    {
     "name": "stderr",
     "output_type": "stream",
     "text": [
      "100%|████████████████████████████████████████| 500/500 [00:01<00:00, 393.75it/s]\n",
      "100%|████████████████████████████████████████| 750/750 [00:01<00:00, 409.13it/s]\n"
     ]
    },
    {
     "name": "stdout",
     "output_type": "stream",
     "text": [
      "Computing maximum value...\n"
     ]
    },
    {
     "name": "stderr",
     "output_type": "stream",
     "text": [
      "100%|███████████████████████████████| 100947/100947 [00:00<00:00, 136999.14it/s]\n"
     ]
    },
    {
     "name": "stdout",
     "output_type": "stream",
     "text": [
      "tensor(-0.0267, grad_fn=<SubBackward0>) tensor(0.1256, grad_fn=<MeanBackward0>) 0.15236002816042551\n"
     ]
    },
    {
     "name": "stderr",
     "output_type": "stream",
     "text": [
      "100%|████████████████████████████████████████| 500/500 [00:01<00:00, 411.02it/s]\n",
      "100%|████████████████████████████████████████| 750/750 [00:02<00:00, 287.53it/s]\n"
     ]
    },
    {
     "name": "stdout",
     "output_type": "stream",
     "text": [
      "Computing maximum value...\n"
     ]
    },
    {
     "name": "stderr",
     "output_type": "stream",
     "text": [
      "100%|███████████████████████████████| 177100/177100 [00:01<00:00, 128577.54it/s]\n"
     ]
    },
    {
     "name": "stdout",
     "output_type": "stream",
     "text": [
      "tensor(-0.0238, grad_fn=<SubBackward0>) tensor(0.1237, grad_fn=<MeanBackward0>) 0.14753888201666995\n"
     ]
    },
    {
     "name": "stderr",
     "output_type": "stream",
     "text": [
      "100%|████████████████████████████████████████| 500/500 [00:01<00:00, 403.47it/s]\n",
      "100%|████████████████████████████████████████| 750/750 [00:01<00:00, 417.17it/s]\n"
     ]
    },
    {
     "name": "stdout",
     "output_type": "stream",
     "text": [
      "Computing maximum value...\n"
     ]
    },
    {
     "name": "stderr",
     "output_type": "stream",
     "text": [
      "100%|███████████████████████████████| 296010/296010 [00:02<00:00, 120860.41it/s]\n"
     ]
    },
    {
     "name": "stdout",
     "output_type": "stream",
     "text": [
      "tensor(-0.0120, grad_fn=<SubBackward0>) tensor(0.1324, grad_fn=<MeanBackward0>) 0.14435140846762806\n"
     ]
    },
    {
     "name": "stderr",
     "output_type": "stream",
     "text": [
      "100%|████████████████████████████████████████| 500/500 [00:01<00:00, 387.21it/s]\n",
      "100%|████████████████████████████████████████| 750/750 [00:01<00:00, 395.24it/s]\n"
     ]
    },
    {
     "name": "stdout",
     "output_type": "stream",
     "text": [
      "Computing maximum value...\n"
     ]
    },
    {
     "name": "stderr",
     "output_type": "stream",
     "text": [
      "100%|███████████████████████████████| 475020/475020 [00:04<00:00, 111951.48it/s]\n"
     ]
    },
    {
     "name": "stdout",
     "output_type": "stream",
     "text": [
      "tensor(-0.0145, grad_fn=<SubBackward0>) tensor(0.1272, grad_fn=<MeanBackward0>) 0.14179602066481797\n"
     ]
    },
    {
     "name": "stderr",
     "output_type": "stream",
     "text": [
      "100%|████████████████████████████████████████| 500/500 [00:01<00:00, 391.99it/s]\n",
      "100%|████████████████████████████████████████| 750/750 [00:01<00:00, 387.59it/s]\n"
     ]
    },
    {
     "name": "stdout",
     "output_type": "stream",
     "text": [
      "Computing maximum value...\n"
     ]
    },
    {
     "name": "stderr",
     "output_type": "stream",
     "text": [
      "100%|███████████████████████████████| 736281/736281 [00:06<00:00, 106524.28it/s]\n"
     ]
    },
    {
     "name": "stdout",
     "output_type": "stream",
     "text": [
      "tensor(-0.0165, grad_fn=<SubBackward0>) tensor(0.1244, grad_fn=<MeanBackward0>) 0.1409807791485666\n"
     ]
    },
    {
     "name": "stderr",
     "output_type": "stream",
     "text": [
      "100%|████████████████████████████████████████| 500/500 [00:01<00:00, 374.88it/s]\n",
      "100%|████████████████████████████████████████| 750/750 [00:01<00:00, 377.21it/s]\n"
     ]
    },
    {
     "name": "stdout",
     "output_type": "stream",
     "text": [
      "Computing maximum value...\n"
     ]
    },
    {
     "name": "stderr",
     "output_type": "stream",
     "text": [
      "  0%|                                 | 2643/1107568 [00:00<00:11, 95697.87it/s]\n"
     ]
    },
    {
     "ename": "KeyboardInterrupt",
     "evalue": "",
     "output_type": "error",
     "traceback": [
      "\u001b[0;31m---------------------------------------------------------------------------\u001b[0m",
      "\u001b[0;31mKeyboardInterrupt\u001b[0m                         Traceback (most recent call last)",
      "\u001b[0;32m/var/folders/wk/dw_2kpzx6yggmhdyw5k5gj200000gn/T/ipykernel_34796/3027119407.py\u001b[0m in \u001b[0;36m<module>\u001b[0;34m\u001b[0m\n\u001b[1;32m     18\u001b[0m     \u001b[0;32mreturn\u001b[0m \u001b[0mavg_diff\u001b[0m\u001b[0;34m/\u001b[0m\u001b[0mnum_checks\u001b[0m\u001b[0;34m\u001b[0m\u001b[0;34m\u001b[0m\u001b[0m\n\u001b[1;32m     19\u001b[0m \u001b[0;34m\u001b[0m\u001b[0m\n\u001b[0;32m---> 20\u001b[0;31m \u001b[0msgd_numerical_test\u001b[0m \u001b[0;34m=\u001b[0m \u001b[0mnumerical_checks\u001b[0m\u001b[0;34m(\u001b[0m\u001b[0msgd_model\u001b[0m\u001b[0;34m,\u001b[0m \u001b[0mX_test\u001b[0m\u001b[0;34m,\u001b[0m \u001b[0my_test\u001b[0m\u001b[0;34m,\u001b[0m \u001b[0;36m0.001\u001b[0m\u001b[0;34m,\u001b[0m \u001b[0;36m0.0005\u001b[0m\u001b[0;34m)\u001b[0m\u001b[0;34m\u001b[0m\u001b[0;34m\u001b[0m\u001b[0m\n\u001b[0m\u001b[1;32m     21\u001b[0m \u001b[0mpgd_numerical_test\u001b[0m \u001b[0;34m=\u001b[0m \u001b[0mnumerical_checks\u001b[0m\u001b[0;34m(\u001b[0m\u001b[0mpgd_model\u001b[0m\u001b[0;34m,\u001b[0m \u001b[0mX_test\u001b[0m\u001b[0;34m,\u001b[0m \u001b[0my_test\u001b[0m\u001b[0;34m,\u001b[0m \u001b[0;36m0.01\u001b[0m\u001b[0;34m,\u001b[0m \u001b[0;36m0.005\u001b[0m\u001b[0;34m)\u001b[0m\u001b[0;34m\u001b[0m\u001b[0;34m\u001b[0m\u001b[0m\n\u001b[1;32m     22\u001b[0m \u001b[0mibp_numerical_test\u001b[0m \u001b[0;34m=\u001b[0m \u001b[0mnumerical_checks\u001b[0m\u001b[0;34m(\u001b[0m\u001b[0mibp_model\u001b[0m\u001b[0;34m,\u001b[0m \u001b[0mX_test\u001b[0m\u001b[0;34m,\u001b[0m \u001b[0my_test\u001b[0m\u001b[0;34m,\u001b[0m \u001b[0;36m0.1\u001b[0m\u001b[0;34m,\u001b[0m \u001b[0;36m0.05\u001b[0m\u001b[0;34m)\u001b[0m\u001b[0;34m\u001b[0m\u001b[0;34m\u001b[0m\u001b[0m\n",
      "\u001b[0;32m/var/folders/wk/dw_2kpzx6yggmhdyw5k5gj200000gn/T/ipykernel_34796/3027119407.py\u001b[0m in \u001b[0;36mnumerical_checks\u001b[0;34m(model, X_test, y_test, gamma, delta)\u001b[0m\n\u001b[1;32m     13\u001b[0m                                                    lr = 0.1)\n\u001b[1;32m     14\u001b[0m         \u001b[0mval\u001b[0m \u001b[0;34m=\u001b[0m \u001b[0mmax\u001b[0m\u001b[0;34m(\u001b[0m\u001b[0mval_1\u001b[0m\u001b[0;34m,\u001b[0m \u001b[0mval_2\u001b[0m\u001b[0;34m)\u001b[0m\u001b[0;34m\u001b[0m\u001b[0;34m\u001b[0m\u001b[0m\n\u001b[0;32m---> 15\u001b[0;31m         \u001b[0mnum\u001b[0m\u001b[0;34m,\u001b[0m \u001b[0mrew\u001b[0m\u001b[0;34m,\u001b[0m \u001b[0mphi\u001b[0m \u001b[0;34m=\u001b[0m \u001b[0mnumerical_solution\u001b[0m\u001b[0;34m(\u001b[0m\u001b[0mmodel\u001b[0m\u001b[0;34m,\u001b[0m \u001b[0mdelta\u001b[0m\u001b[0;34m,\u001b[0m \u001b[0mgamma\u001b[0m\u001b[0;34m,\u001b[0m \u001b[0mn\u001b[0m\u001b[0;34m,\u001b[0m \u001b[0mD\u001b[0m\u001b[0;34m)\u001b[0m\u001b[0;34m\u001b[0m\u001b[0;34m\u001b[0m\u001b[0m\n\u001b[0m\u001b[1;32m     16\u001b[0m         \u001b[0mprint\u001b[0m\u001b[0;34m(\u001b[0m\u001b[0mval\u001b[0m\u001b[0;34m-\u001b[0m\u001b[0mnum\u001b[0m\u001b[0;34m,\u001b[0m \u001b[0mval\u001b[0m\u001b[0;34m,\u001b[0m \u001b[0mnum\u001b[0m\u001b[0;34m)\u001b[0m\u001b[0;34m\u001b[0m\u001b[0;34m\u001b[0m\u001b[0m\n\u001b[1;32m     17\u001b[0m         \u001b[0mavg_diff\u001b[0m \u001b[0;34m+=\u001b[0m \u001b[0;34m(\u001b[0m\u001b[0mval\u001b[0m \u001b[0;34m-\u001b[0m \u001b[0mnum\u001b[0m\u001b[0;34m)\u001b[0m\u001b[0;34m\u001b[0m\u001b[0;34m\u001b[0m\u001b[0m\n",
      "\u001b[0;32m/var/folders/wk/dw_2kpzx6yggmhdyw5k5gj200000gn/T/ipykernel_34796/2397226926.py\u001b[0m in \u001b[0;36mnumerical_solution\u001b[0;34m(model, delta, gamma, N, D)\u001b[0m\n\u001b[1;32m     32\u001b[0m     \u001b[0mrewards\u001b[0m \u001b[0;34m=\u001b[0m \u001b[0;34m[\u001b[0m\u001b[0;34m]\u001b[0m\u001b[0;34m\u001b[0m\u001b[0;34m\u001b[0m\u001b[0m\n\u001b[1;32m     33\u001b[0m     \u001b[0;32mfor\u001b[0m \u001b[0mp\u001b[0m \u001b[0;32min\u001b[0m \u001b[0mtqdm\u001b[0m\u001b[0;34m(\u001b[0m\u001b[0mpermutations\u001b[0m\u001b[0;34m)\u001b[0m\u001b[0;34m:\u001b[0m\u001b[0;34m\u001b[0m\u001b[0;34m\u001b[0m\u001b[0m\n\u001b[0;32m---> 34\u001b[0;31m         \u001b[0mr\u001b[0m \u001b[0;34m=\u001b[0m \u001b[0mcompute_reward\u001b[0m\u001b[0;34m(\u001b[0m\u001b[0mvalues\u001b[0m\u001b[0;34m,\u001b[0m\u001b[0mp\u001b[0m\u001b[0;34m)\u001b[0m\u001b[0;34m\u001b[0m\u001b[0;34m\u001b[0m\u001b[0m\n\u001b[0m\u001b[1;32m     35\u001b[0m         \u001b[0mrewards\u001b[0m\u001b[0;34m.\u001b[0m\u001b[0mappend\u001b[0m\u001b[0;34m(\u001b[0m\u001b[0mr\u001b[0m\u001b[0;34m)\u001b[0m\u001b[0;34m\u001b[0m\u001b[0;34m\u001b[0m\u001b[0m\n\u001b[1;32m     36\u001b[0m         \u001b[0;31m#print(p, r)\u001b[0m\u001b[0;34m\u001b[0m\u001b[0;34m\u001b[0m\u001b[0;34m\u001b[0m\u001b[0m\n",
      "\u001b[0;32m/var/folders/wk/dw_2kpzx6yggmhdyw5k5gj200000gn/T/ipykernel_34796/2397226926.py\u001b[0m in \u001b[0;36mcompute_reward\u001b[0;34m(values, indexes)\u001b[0m\n\u001b[1;32m     13\u001b[0m         \u001b[0mreward\u001b[0m \u001b[0;34m=\u001b[0m \u001b[0;36m0\u001b[0m\u001b[0;34m\u001b[0m\u001b[0;34m\u001b[0m\u001b[0m\n\u001b[1;32m     14\u001b[0m         \u001b[0;32mfor\u001b[0m \u001b[0mi\u001b[0m \u001b[0;32min\u001b[0m \u001b[0mrange\u001b[0m\u001b[0;34m(\u001b[0m\u001b[0mlen\u001b[0m\u001b[0;34m(\u001b[0m\u001b[0mindexes\u001b[0m\u001b[0;34m)\u001b[0m\u001b[0;34m)\u001b[0m\u001b[0;34m:\u001b[0m\u001b[0;34m\u001b[0m\u001b[0;34m\u001b[0m\u001b[0m\n\u001b[0;32m---> 15\u001b[0;31m             \u001b[0mreward\u001b[0m \u001b[0;34m+=\u001b[0m \u001b[0mvalues\u001b[0m\u001b[0;34m[\u001b[0m\u001b[0mi\u001b[0m\u001b[0;34m]\u001b[0m\u001b[0;34m[\u001b[0m\u001b[0mindexes\u001b[0m\u001b[0;34m[\u001b[0m\u001b[0mi\u001b[0m\u001b[0;34m]\u001b[0m\u001b[0;34m]\u001b[0m\u001b[0;34m\u001b[0m\u001b[0;34m\u001b[0m\u001b[0m\n\u001b[0m\u001b[1;32m     16\u001b[0m         \u001b[0;32mreturn\u001b[0m \u001b[0mreward\u001b[0m\u001b[0;34m/\u001b[0m\u001b[0mlen\u001b[0m\u001b[0;34m(\u001b[0m\u001b[0mindexes\u001b[0m\u001b[0;34m)\u001b[0m\u001b[0;34m\u001b[0m\u001b[0;34m\u001b[0m\u001b[0m\n\u001b[1;32m     17\u001b[0m \u001b[0;34m\u001b[0m\u001b[0m\n",
      "\u001b[0;31mKeyboardInterrupt\u001b[0m: "
     ]
    }
   ],
   "source": [
    "from tqdm import trange\n",
    "def numerical_checks(model, X_test, y_test, gamma, delta):\n",
    "    D = 7\n",
    "    avg_diff = 0\n",
    "    num_checks = 0\n",
    "    for n in range(16, 38, 2):\n",
    "        num_checks += 1\n",
    "        val_1, trend, vg = compute_DIF_certification(model, f_epsilon, gamma, delta, \n",
    "                                       X_test, y_test, N=n, iters=500, rettrend=True,\n",
    "                                                   lr = 1.0)\n",
    "        val_2, trend, vg = compute_DIF_certification(model, f_epsilon, gamma, delta, \n",
    "                                       X_test, y_test, N=n, iters=750, rettrend=True,\n",
    "                                                   lr = 0.1)\n",
    "        val = max(val_1, val_2)\n",
    "        num, rew, phi = numerical_solution(model, delta, gamma, n, D)\n",
    "        print(val-num, val, num)\n",
    "        avg_diff += (val - num)\n",
    "    return avg_diff/num_checks\n",
    "\n",
    "sgd_numerical_test = numerical_checks(sgd_model, X_test, y_test, 0.001, 0.0005)\n",
    "pgd_numerical_test = numerical_checks(pgd_model, X_test, y_test, 0.01, 0.005)\n",
    "ibp_numerical_test = numerical_checks(ibp_model, X_test, y_test, 0.1, 0.05)\n",
    "glob_numerical_test = numerical_checks(glob_model, X_test, y_test, 0.1, 0.05)\n",
    "ibpg_numerical_test = numerical_checks(ibpg_model, X_test, y_test, 0.1, 0.05)"
   ]
  },
  {
   "cell_type": "code",
   "execution_count": null,
   "id": "9b9c68e2",
   "metadata": {},
   "outputs": [],
   "source": [
    "\n",
    "print(float(sgd_numerical_test))\n",
    "print(float(pgd_numerical_test))\n",
    "print(float(ibp_numerical_test))\n",
    "print(float(glob_numerical_test))\n",
    "print(float(ibpg_numerical_test))\n",
    "# Number of checks needed: \n",
    "total_numerical_evals = 54264 + 100947 + 177100 + 296010 + 475020 + 736281 + 1107568 + 1623160 + 2324784 + 3262623 + 4496388\n",
    "#14_654_145\n",
    "print(total_numerical_evals)\n",
    "# Errors - Income:\n",
    "\"\"\"\n",
    "-0.014322156086564064\n",
    "0.06885955482721329\n",
    "0.00820833444595337\n",
    "0.058401964604854584\n",
    "-0.002134484937414527\n",
    "\"\"\"\n",
    "# Errors - Adult:\n",
    "\"\"\"\n",
    "0.037066909670829773\n",
    "0.036596205830574036\n",
    "-0.0009804845321923494\n",
    "-0.0013229125179350376\n",
    "0.008271366357803345\n",
    "\"\"\"\n",
    "# Errors - Credit:\n",
    "\"\"\"\n",
    "0.11321992427110672\n",
    "-0.033412933349609375\n",
    "0.022244466468691826\n",
    "0.01889326050877571\n",
    "-0.007846537977457047\n",
    "\"\"\""
   ]
  }
 ],
 "metadata": {
  "kernelspec": {
   "display_name": "Python 3 (ipykernel)",
   "language": "python",
   "name": "python3"
  },
  "language_info": {
   "codemirror_mode": {
    "name": "ipython",
    "version": 3
   },
   "file_extension": ".py",
   "mimetype": "text/x-python",
   "name": "python",
   "nbconvert_exporter": "python",
   "pygments_lexer": "ipython3",
   "version": "3.7.13"
  }
 },
 "nbformat": 4,
 "nbformat_minor": 5
}
