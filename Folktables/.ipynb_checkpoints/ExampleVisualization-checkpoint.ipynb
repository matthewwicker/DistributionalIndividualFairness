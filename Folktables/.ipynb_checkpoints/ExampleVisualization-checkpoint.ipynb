{
 "cells": [
  {
   "cell_type": "code",
   "execution_count": null,
   "id": "62d8b2d3",
   "metadata": {},
   "outputs": [],
   "source": [
    "from sklearn import datasets\n",
    "\n",
    "X, y = datasets.make_moons(n_samples=100, shuffle=True, noise=0.05, random_state=None)"
   ]
  },
  {
   "cell_type": "code",
   "execution_count": null,
   "id": "f9d76b2e",
   "metadata": {},
   "outputs": [],
   "source": [
    "print(X.T.shape)\n",
    "\n",
    "x1_coord = X[:,0]\n",
    "x2_coord = X[:,1]\n",
    "import matplotlib\n",
    "import matplotlib.pyplot as plt\n",
    "from matplotlib.patches import Rectangle\n",
    "\n",
    "import seaborn as sns\n",
    "sns.set_context('poster')\n",
    "fig, ax = plt.subplots(figsize=(8,6), dpi=100)\n",
    "\n",
    "plt.scatter(x=x1_coord, y=x2_coord, s=10)\n",
    "\n",
    "ax = plt.gca()\n",
    "color = matplotlib.colors.colorConverter.to_rgba('white', alpha=.0)\n",
    "eps = 0.1\n",
    "for i in X:\n",
    "    ax.add_patch(Rectangle((i[0]- (eps/2), i[1] - (eps/2)), eps*1.2, eps, edgecolor=\"red\", facecolor=color))\n",
    "    #break\n",
    "    \n",
    "plt.scatter(x=[0.1, 0.5, 0.2], y=[1.25, 1.1, -0.5], marker=\"*\", color=\"b\", label=\"No certificate for likely individuals\")\n",
    "plt.ylim((-1.75, 2.55))\n",
    "plt.xlim((-2.5, 3.5))\n",
    "plt.title(\"Coverage with Local IF Guarantees\")\n",
    "plt.legend(fontsize=18)\n",
    "plt.show()\n"
   ]
  },
  {
   "cell_type": "code",
   "execution_count": null,
   "id": "57e448a4",
   "metadata": {},
   "outputs": [],
   "source": [
    "sns.set_context('poster')\n",
    "fig, ax = plt.subplots(figsize=(8,6), dpi=100)\n",
    "\n",
    "plt.scatter(x=x1_coord, y=x2_coord, s=10)\n",
    "sns.kdeplot(x=x1_coord, y=x2_coord, thresh=0.003, levels=1, color='r')\n",
    "ax = plt.gca()\n",
    "color = matplotlib.colors.colorConverter.to_rgba('white', alpha=.0)\n",
    "eps = 0.1\n",
    "plt.scatter(x=[0.1, 0.5, 0.2], y=[1.25, 1.1, -0.5], marker=\"*\", color=\"b\", label=\"Certificate for likely individuals\")\n",
    "plt.scatter(x=[-2.0, 2.0, -1.0], y=[1.8, 1.5, -1.1], marker=\"*\", color=\"m\", label=\"No constraint on outlier individuals\")\n",
    "plt.ylim((-1.75, 2.55))\n",
    "plt.xlim((-2.5, 3.5))\n",
    "plt.title(\"Coverage with Distrib. IF Guarantees\")\n",
    "plt.legend(fontsize=16)\n",
    "plt.show()\n"
   ]
  },
  {
   "cell_type": "code",
   "execution_count": null,
   "id": "be1fe0c2",
   "metadata": {},
   "outputs": [],
   "source": [
    "from scipy.stats import gaussian_kde\n",
    "gaussian_kde(X)\n",
    "X_test_blue = [[0.1, 1.25], [0.5, 1.1], [0.2, -0.5]]\n",
    "X_test_purp = [[-2.0, 1.8], [2.0, 1.5], [-1., -1.1]]\n",
    "pdf_estimate_blue = kde.evaluate(X_test_blue)\n",
    "pdf_estimate_purp = kde.evaluate(X_test_purp)"
   ]
  },
  {
   "cell_type": "code",
   "execution_count": null,
   "id": "e45571b3",
   "metadata": {},
   "outputs": [],
   "source": [
    "sns.set_context('poster')\n",
    "fig, ax = plt.subplots(figsize=(8,6), dpi=100)\n",
    "\n",
    "plt.scatter(x=x1_coord, y=x2_coord, s=10) #, label=\"Empirical Distribution\")\n",
    "ax = plt.gca()\n",
    "color = matplotlib.colors.colorConverter.to_rgba('white', alpha=.0)\n",
    "ax.add_patch(Rectangle((-2.3, -1.5), 5.5, 3.75, edgecolor=\"red\", facecolor=color))\n",
    "plt.ylim((-1.75, 2.55))\n",
    "plt.xlim((-2.5, 3.5))\n",
    "plt.scatter(x=[-2.0, 2.0, -1.0], y=[1.8, 1.5, -1.1], marker=\"*\", color=\"m\", label=\"Strict constraint on outlier individuals\")\n",
    "plt.title(\"Coverage with Global IF Guarantees\")\n",
    "plt.legend(fontsize=16)\n",
    "#ax.legend(loc='upper center', bbox_to_anchor=(0.5, -0.15),\n",
    "#          fancybox=True, shadow=True, ncol=5)\n",
    "plt.show()\n"
   ]
  }
 ],
 "metadata": {
  "kernelspec": {
   "display_name": "Python 3 (ipykernel)",
   "language": "python",
   "name": "python3"
  },
  "language_info": {
   "codemirror_mode": {
    "name": "ipython",
    "version": 3
   },
   "file_extension": ".py",
   "mimetype": "text/x-python",
   "name": "python",
   "nbconvert_exporter": "python",
   "pygments_lexer": "ipython3",
   "version": "3.7.13"
  }
 },
 "nbformat": 4,
 "nbformat_minor": 5
}
