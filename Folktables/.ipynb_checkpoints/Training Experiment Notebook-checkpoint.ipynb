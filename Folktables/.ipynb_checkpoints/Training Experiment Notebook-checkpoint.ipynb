{
 "cells": [
  {
   "cell_type": "code",
   "execution_count": 1,
   "id": "fa1a2c51",
   "metadata": {},
   "outputs": [
    {
     "name": "stdout",
     "output_type": "stream",
     "text": [
      "Shape 1:  (30162, 15)\n",
      "Shape 2:  (15060, 15)\n",
      "Shape 3:  (45222, 15)\n",
      "Raw cols: \n",
      "(30162, 14)\n",
      "['age', 'workclass', 'fnlwgt', 'education', 'education-num', 'marital-status', 'occupation', 'relationship', 'race', 'sex', 'capital-gain', 'capital-loss', 'hours-per-week', 'native-country']\n",
      "Raw cols: \n",
      "(45222, 14)\n",
      "['age', 'workclass', 'fnlwgt', 'education', 'education-num', 'marital-status', 'occupation', 'relationship', 'race', 'sex', 'capital-gain', 'capital-loss', 'hours-per-week', 'native-country']\n",
      "train:  (30162, 102)\n",
      "test:   (45222, 102)\n",
      "DATA SHAPES: \n",
      "(30162, 103)\n",
      "(45222, 103)\n",
      "(45222, 103)\n",
      "****\n"
     ]
    },
    {
     "name": "stderr",
     "output_type": "stream",
     "text": [
      "/Users/matthewwicker/opt/anaconda3/envs/FairnessEnv/lib/python3.7/site-packages/sklearn/decomposition/_truncated_svd.py:234: RuntimeWarning: invalid value encountered in true_divide\n",
      "  self.explained_variance_ratio_ = exp_var / full_var\n"
     ]
    }
   ],
   "source": [
    "import os\n",
    "import sys\n",
    "import copy\n",
    "sys.path.append('..')\n",
    "\n",
    "#import models\n",
    "import random\n",
    "import numpy as np\n",
    "import FairCertModule\n",
    "from FairCertModule import ACS_categories\n",
    "import folktables\n",
    "from folktables import ACSDataSource, ACSIncome, ACSEmployment\n",
    "from sklearn.model_selection import train_test_split\n",
    "\n",
    "import torch\n",
    "import torch.nn as nn\n",
    "import torch.optim as optim\n",
    "from torch.nn import functional as F\n",
    "from torch.utils.data import Dataset\n",
    "from torch.utils.data import DataLoader\n",
    "from torchvision import models, transforms\n",
    "from FullyConnected import FullyConnected\n",
    "import pytorch_lightning as pl\n",
    "\n",
    "SEED = 0\n",
    "torch.manual_seed(SEED)\n",
    "random.seed(SEED)\n",
    "np.random.seed(SEED)\n",
    "\n",
    "dataset = \"Credit\"\n",
    "\n",
    "# Data loaders\n",
    "import folk_utils\n",
    "if(dataset in [\"Employ\", \"Folk\", \"Insurance\", \"Coverage\"]):\n",
    "    X_train, X_test, X_val, y_train, y_test, y_val, lp_epsilon, sr_epsilon = folk_utils.get_dataset(dataset)\n",
    "    f_epsilon = lp_epsilon\n",
    "elif(dataset in [\"Adult\", \"Credit\", \"German\"]):\n",
    "    X_train, X_test, X_val, y_train, y_test, y_val, lp_epsilon, sr_epsilon = folk_utils.get_UCI_dataset(dataset)\n",
    "    f_epsilon = lp_epsilon"
   ]
  },
  {
   "cell_type": "code",
   "execution_count": 2,
   "id": "84cfd7d5",
   "metadata": {},
   "outputs": [
    {
     "name": "stdout",
     "output_type": "stream",
     "text": [
      "torch.Size([30162])\n",
      "torch.Size([45222])\n",
      "torch.Size([45222])\n",
      "102\n"
     ]
    }
   ],
   "source": [
    "print(y_train.shape)\n",
    "print(y_val.shape)\n",
    "print(y_test.shape)\n",
    "print(len(lp_epsilon))"
   ]
  },
  {
   "cell_type": "code",
   "execution_count": 3,
   "id": "0266b1c9",
   "metadata": {},
   "outputs": [],
   "source": [
    "mode = \"FAIR-DRO\"\n",
    "\n",
    "if(mode == \"FAIR-GLOB\"):\n",
    "    lr = 0.001 #-10\n",
    "    eps = 1.0\n",
    "    alpha = 0.02#1\n",
    "    bs = 256 \n",
    "    glob_adv = 100\n",
    "if(mode == \"FAIR-IBP\"):\n",
    "    lr = 0.001\n",
    "    eps = 0.02\n",
    "    alpha = 0.02#2\n",
    "    bs = 256 \n",
    "    glob_adv = 0\n",
    "elif(mode == \"FAIR-IBPG\"):\n",
    "    lr = 0.001\n",
    "    eps = 0.075\n",
    "    alpha = 0.02\n",
    "    bs = 256 \n",
    "    glob_adv = 0\n",
    "elif(mode == \"FAIR-PGD\"):\n",
    "    lr = 0.001\n",
    "    eps = 0.02\n",
    "    alpha = 0.02\n",
    "    bs = 256\n",
    "    glob_adv = 0\n",
    "elif(mode == \"FAIR-DRO\"):\n",
    "    lr = 0.001\n",
    "    eps = 0.02\n",
    "    alpha = 0.02\n",
    "    bs = 256\n",
    "    glob_adv = 16\n",
    "elif(mode == \"SGD\"):\n",
    "    lr = 0.001\n",
    "    eps = 0.00\n",
    "    alpha = 0.0\n",
    "    bs = 128\n",
    "    glob_adv = 0\n",
    "if(dataset == \"German\" and mode != \"SGD\"):\n",
    "    alpha = 1.5\n",
    "    eps *= 6\n",
    "    #eps *= 3.5 \n",
    "class custDataset(Dataset):\n",
    "    def __init__(self, X, y):\n",
    "        self.X = torch.Tensor(X).float()\n",
    "        self.y = y\n",
    "        self.transform = transforms.Compose([transforms.ToTensor()])\n",
    "\n",
    "    def __len__(self):\n",
    "        return self.X.shape[0]\n",
    "        \n",
    "    def __getitem__(self, index):\n",
    "        return self.X[index], self.y[index]\n",
    "    \n",
    "\n",
    "CustTrain = custDataset(X_train, y_train)  \n",
    "CustVal = custDataset(X_val, y_val) \n",
    "CustTest = custDataset(X_val, y_val)\n",
    "\n",
    "class CustomDataModule(pl.LightningDataModule):\n",
    "    def __init__(self, train, val, test, batch_size=bs):\n",
    "        super().__init__()\n",
    "        self.train_data = train\n",
    "        self.val_data = val\n",
    "        self.test_data = test\n",
    "        self.batch_size = batch_size\n",
    "        \n",
    "    def train_dataloader(self):\n",
    "        return DataLoader(self.train_data, batch_size=self.batch_size)\n",
    "\n",
    "    def val_dataloader(self):\n",
    "        return DataLoader(self.val_data, batch_size=self.batch_size)\n",
    "\n",
    "    def test_dataloader(self):\n",
    "        return DataLoader(self.test_data, batch_size=self.batch_size)\n",
    "    \n",
    "dm = CustomDataModule(CustTrain, CustVal, CustVal)\n"
   ]
  },
  {
   "cell_type": "code",
   "execution_count": 4,
   "id": "9e7777c3",
   "metadata": {},
   "outputs": [
    {
     "name": "stdout",
     "output_type": "stream",
     "text": [
      "[5.950e+00 3.550e+00 3.410e+00 4.500e-01 1.840e+00 1.680e+01 5.000e-01\n",
      " 8.700e-01 1.000e-02 4.400e-01 1.290e+00 1.860e+00 1.210e+00 1.950e+00\n",
      " 7.900e-01 1.570e+00 1.890e+00 9.400e-01 4.200e-01 8.000e-02 3.440e+00\n",
      " 4.230e+00 1.724e+01 1.010e+00 3.177e+01 3.220e+00 1.274e+01 7.980e+00\n",
      " 1.316e+01 8.100e-01 6.000e-02 4.400e-01 5.800e-01 7.600e-01 1.340e+00\n",
      " 4.000e-02 5.000e-02 2.000e-01 2.100e-01 9.900e-01 7.300e-01 5.000e-02\n",
      " 6.000e-01 6.000e-01 5.400e-01 2.400e-01 4.400e-01 1.920e+00 9.100e-01\n",
      " 1.400e-01 4.400e-01 1.610e+00 1.300e-01 3.200e-01 2.550e+00 2.000e-01\n",
      " 5.900e-01 7.000e-01 7.200e-01 1.400e-01 1.500e-01 1.080e+00 1.200e-01\n",
      " 2.100e-01 5.000e-01 9.700e-01 8.800e-01 2.200e-01 1.400e-01 4.900e-01\n",
      " 2.041e+01 8.700e-01 1.649e+01 2.300e+00 7.390e+00 6.810e+00 1.970e+00\n",
      " 1.194e+01 6.640e+00 2.740e+00 4.730e+00 1.360e+00 1.360e+00 9.720e+00\n",
      " 7.600e-01 1.100e-01 8.580e+00 7.100e-01 7.640e+00 4.221e+01 1.249e+01\n",
      " 2.970e+00 7.420e+00 2.370e+01 2.315e+01 9.000e-02 3.130e+00 4.850e+00\n",
      " 6.170e+00 7.810e+00 1.770e+00 1.100e-01]\n",
      "102\n",
      "\n"
     ]
    }
   ],
   "source": [
    "\n",
    "print(np.round(lp_epsilon, 2))\n",
    "print(len(lp_epsilon))\n",
    "print()\n",
    "#print(np.round(sr_epsilon, 2))\n",
    "\n",
    "#print(np.round(ex_epsilon, 2))\n"
   ]
  },
  {
   "cell_type": "code",
   "execution_count": 5,
   "id": "f08d7c8a",
   "metadata": {},
   "outputs": [
    {
     "name": "stderr",
     "output_type": "stream",
     "text": [
      "GPU available: False, used: False\n",
      "TPU available: False, using: 0 TPU cores\n",
      "IPU available: False, using: 0 IPUs\n",
      "HPU available: False, using: 0 HPUs\n",
      "\n",
      "  | Name | Type       | Params\n",
      "------------------------------------\n",
      "0 | lays | ModuleList | 4.4 M \n",
      "1 | l1   | Linear     | 210 K \n",
      "2 | lf   | Linear     | 4.1 K \n",
      "------------------------------------\n",
      "4.4 M     Trainable params\n",
      "0         Non-trainable params\n",
      "4.4 M     Total params\n",
      "17.646    Total estimated model params size (MB)\n"
     ]
    },
    {
     "data": {
      "application/vnd.jupyter.widget-view+json": {
       "model_id": "",
       "version_major": 2,
       "version_minor": 0
      },
      "text/plain": [
       "Sanity Checking: 0it [00:00, ?it/s]"
      ]
     },
     "metadata": {},
     "output_type": "display_data"
    },
    {
     "name": "stdout",
     "output_type": "stream",
     "text": [
      "Updated eps:  0.004\n"
     ]
    },
    {
     "name": "stderr",
     "output_type": "stream",
     "text": [
      "/Users/matthewwicker/opt/anaconda3/envs/FairnessEnv/lib/python3.7/site-packages/pytorch_lightning/trainer/connectors/data_connector.py:245: PossibleUserWarning: The dataloader, val_dataloader 0, does not have many workers which may be a bottleneck. Consider increasing the value of the `num_workers` argument` (try 8 which is the number of cpus on this machine) in the `DataLoader` init to improve performance.\n",
      "  category=PossibleUserWarning,\n",
      "/Users/matthewwicker/opt/anaconda3/envs/FairnessEnv/lib/python3.7/site-packages/torchmetrics/utilities/prints.py:36: UserWarning: Torchmetrics v0.9 introduced a new argument class property called `full_state_update` that has\n",
      "                not been set for this class (_ResultMetric). The property determines if `update` by\n",
      "                default needs access to the full metric state. If this is not the case, significant speedups can be\n",
      "                achieved and we recommend setting this to `False`.\n",
      "                We provide an checking function\n",
      "                `from torchmetrics.utilities import check_forward_no_full_state`\n",
      "                that can be used to check if the `full_state_update=True` (old and potential slower behaviour,\n",
      "                default for now) or if `full_state_update=False` can be used safely.\n",
      "                \n",
      "  warnings.warn(*args, **kwargs)\n",
      "/Users/matthewwicker/opt/anaconda3/envs/FairnessEnv/lib/python3.7/site-packages/pytorch_lightning/trainer/connectors/data_connector.py:245: PossibleUserWarning: The dataloader, train_dataloader, does not have many workers which may be a bottleneck. Consider increasing the value of the `num_workers` argument` (try 8 which is the number of cpus on this machine) in the `DataLoader` init to improve performance.\n",
      "  category=PossibleUserWarning,\n"
     ]
    },
    {
     "data": {
      "application/vnd.jupyter.widget-view+json": {
       "model_id": "783bce3224e249d49bf0e1dd66194ea4",
       "version_major": 2,
       "version_minor": 0
      },
      "text/plain": [
       "Training: 0it [00:00, ?it/s]"
      ]
     },
     "metadata": {},
     "output_type": "display_data"
    },
    {
     "data": {
      "application/vnd.jupyter.widget-view+json": {
       "model_id": "",
       "version_major": 2,
       "version_minor": 0
      },
      "text/plain": [
       "Validation: 0it [00:00, ?it/s]"
      ]
     },
     "metadata": {},
     "output_type": "display_data"
    },
    {
     "name": "stdout",
     "output_type": "stream",
     "text": [
      "Updated eps:  0.008\n"
     ]
    },
    {
     "data": {
      "application/vnd.jupyter.widget-view+json": {
       "model_id": "",
       "version_major": 2,
       "version_minor": 0
      },
      "text/plain": [
       "Validation: 0it [00:00, ?it/s]"
      ]
     },
     "metadata": {},
     "output_type": "display_data"
    },
    {
     "name": "stdout",
     "output_type": "stream",
     "text": [
      "Updated eps:  0.012\n"
     ]
    },
    {
     "data": {
      "application/vnd.jupyter.widget-view+json": {
       "model_id": "",
       "version_major": 2,
       "version_minor": 0
      },
      "text/plain": [
       "Validation: 0it [00:00, ?it/s]"
      ]
     },
     "metadata": {},
     "output_type": "display_data"
    },
    {
     "name": "stdout",
     "output_type": "stream",
     "text": [
      "Updated eps:  0.016\n"
     ]
    },
    {
     "data": {
      "application/vnd.jupyter.widget-view+json": {
       "model_id": "",
       "version_major": 2,
       "version_minor": 0
      },
      "text/plain": [
       "Validation: 0it [00:00, ?it/s]"
      ]
     },
     "metadata": {},
     "output_type": "display_data"
    },
    {
     "name": "stdout",
     "output_type": "stream",
     "text": [
      "Updated eps:  0.02\n"
     ]
    },
    {
     "data": {
      "application/vnd.jupyter.widget-view+json": {
       "model_id": "",
       "version_major": 2,
       "version_minor": 0
      },
      "text/plain": [
       "Validation: 0it [00:00, ?it/s]"
      ]
     },
     "metadata": {},
     "output_type": "display_data"
    },
    {
     "name": "stdout",
     "output_type": "stream",
     "text": [
      "Updated eps:  0.02\n"
     ]
    },
    {
     "data": {
      "application/vnd.jupyter.widget-view+json": {
       "model_id": "",
       "version_major": 2,
       "version_minor": 0
      },
      "text/plain": [
       "Validation: 0it [00:00, ?it/s]"
      ]
     },
     "metadata": {},
     "output_type": "display_data"
    },
    {
     "name": "stdout",
     "output_type": "stream",
     "text": [
      "Updated eps:  0.02\n"
     ]
    },
    {
     "data": {
      "application/vnd.jupyter.widget-view+json": {
       "model_id": "",
       "version_major": 2,
       "version_minor": 0
      },
      "text/plain": [
       "Validation: 0it [00:00, ?it/s]"
      ]
     },
     "metadata": {},
     "output_type": "display_data"
    },
    {
     "name": "stdout",
     "output_type": "stream",
     "text": [
      "Updated eps:  0.02\n"
     ]
    },
    {
     "data": {
      "application/vnd.jupyter.widget-view+json": {
       "model_id": "",
       "version_major": 2,
       "version_minor": 0
      },
      "text/plain": [
       "Validation: 0it [00:00, ?it/s]"
      ]
     },
     "metadata": {},
     "output_type": "display_data"
    },
    {
     "name": "stdout",
     "output_type": "stream",
     "text": [
      "Updated eps:  0.02\n"
     ]
    },
    {
     "data": {
      "application/vnd.jupyter.widget-view+json": {
       "model_id": "",
       "version_major": 2,
       "version_minor": 0
      },
      "text/plain": [
       "Validation: 0it [00:00, ?it/s]"
      ]
     },
     "metadata": {},
     "output_type": "display_data"
    },
    {
     "name": "stdout",
     "output_type": "stream",
     "text": [
      "Updated eps:  0.02\n"
     ]
    },
    {
     "data": {
      "application/vnd.jupyter.widget-view+json": {
       "model_id": "",
       "version_major": 2,
       "version_minor": 0
      },
      "text/plain": [
       "Validation: 0it [00:00, ?it/s]"
      ]
     },
     "metadata": {},
     "output_type": "display_data"
    },
    {
     "name": "stdout",
     "output_type": "stream",
     "text": [
      "Updated eps:  0.02\n"
     ]
    },
    {
     "name": "stderr",
     "output_type": "stream",
     "text": [
      "/Users/matthewwicker/opt/anaconda3/envs/FairnessEnv/lib/python3.7/site-packages/pytorch_lightning/trainer/connectors/data_connector.py:245: PossibleUserWarning: The dataloader, test_dataloader 0, does not have many workers which may be a bottleneck. Consider increasing the value of the `num_workers` argument` (try 8 which is the number of cpus on this machine) in the `DataLoader` init to improve performance.\n",
      "  category=PossibleUserWarning,\n"
     ]
    },
    {
     "data": {
      "application/vnd.jupyter.widget-view+json": {
       "model_id": "eba19e847cb841f0835794763648dc1a",
       "version_major": 2,
       "version_minor": 0
      },
      "text/plain": [
       "Testing: 0it [00:00, ?it/s]"
      ]
     },
     "metadata": {},
     "output_type": "display_data"
    },
    {
     "data": {
      "text/html": [
       "<pre style=\"white-space:pre;overflow-x:auto;line-height:normal;font-family:Menlo,'DejaVu Sans Mono',consolas,'Courier New',monospace\">┏━━━━━━━━━━━━━━━━━━━━━━━━━━━┳━━━━━━━━━━━━━━━━━━━━━━━━━━━┓\n",
       "┃<span style=\"font-weight: bold\">        Test metric        </span>┃<span style=\"font-weight: bold\">       DataLoader 0        </span>┃\n",
       "┡━━━━━━━━━━━━━━━━━━━━━━━━━━━╇━━━━━━━━━━━━━━━━━━━━━━━━━━━┩\n",
       "│<span style=\"color: #008080; text-decoration-color: #008080\">         test_acc          </span>│<span style=\"color: #800080; text-decoration-color: #800080\">    0.7521816492080688     </span>│\n",
       "└───────────────────────────┴───────────────────────────┘\n",
       "</pre>\n"
      ],
      "text/plain": [
       "┏━━━━━━━━━━━━━━━━━━━━━━━━━━━┳━━━━━━━━━━━━━━━━━━━━━━━━━━━┓\n",
       "┃\u001b[1m \u001b[0m\u001b[1m       Test metric       \u001b[0m\u001b[1m \u001b[0m┃\u001b[1m \u001b[0m\u001b[1m      DataLoader 0       \u001b[0m\u001b[1m \u001b[0m┃\n",
       "┡━━━━━━━━━━━━━━━━━━━━━━━━━━━╇━━━━━━━━━━━━━━━━━━━━━━━━━━━┩\n",
       "│\u001b[36m \u001b[0m\u001b[36m        test_acc         \u001b[0m\u001b[36m \u001b[0m│\u001b[35m \u001b[0m\u001b[35m   0.7521816492080688    \u001b[0m\u001b[35m \u001b[0m│\n",
       "└───────────────────────────┴───────────────────────────┘\n"
      ]
     },
     "metadata": {},
     "output_type": "display_data"
    }
   ],
   "source": [
    "import time\n",
    "if(mode == \"FAIR-GLOB\" or mode == \"FAIR-IBPG\"):\n",
    "    mode_id = \"FAIR-IBP\"\n",
    "else:\n",
    "    mode_id = mode\n",
    "    \n",
    "if(dataset == \"Coverage\"):\n",
    "    lr *= 2\n",
    "DEPTH = 2\n",
    "WIDTH = 2048\n",
    "#model = FullyConnected(hidden_lay=2, hidden_dim=256,\n",
    "model = FullyConnected(hidden_lay=DEPTH, hidden_dim=WIDTH,\n",
    "                       learning_rate = lr, mode=mode_id, \n",
    "                       epsilon=eps, alpha=alpha,\n",
    "                       glob_advs=glob_adv, dataset=dataset)\n",
    "\n",
    "model.set_fair_interval(lp_epsilon)\n",
    "# used to be 30, 35\n",
    "model.MAX_EPOCHS = 5\n",
    "start = time.time()\n",
    "trainer = pl.Trainer(max_epochs=10, accelerator=\"cpu\", devices=1)\n",
    "trainer.fit(model, datamodule=dm)\n",
    "result = trainer.test(model, datamodule=dm)\n",
    "end = time.time()"
   ]
  },
  {
   "cell_type": "code",
   "execution_count": 6,
   "id": "1e539d07",
   "metadata": {},
   "outputs": [
    {
     "name": "stdout",
     "output_type": "stream",
     "text": [
      "Time:  2465.4828798770905\n",
      "Est:  73964.48639631271\n"
     ]
    }
   ],
   "source": [
    "print(\"Time: \", end - start)\n",
    "print(\"Est: \", (end - start)*30)"
   ]
  },
  {
   "cell_type": "code",
   "execution_count": 7,
   "id": "49654156",
   "metadata": {},
   "outputs": [
    {
     "name": "stdout",
     "output_type": "stream",
     "text": [
      "FAIR-DRO2_2048\n"
     ]
    }
   ],
   "source": [
    "\n",
    "directory = \"%sModels\"%(dataset)\n",
    "if not os.path.exists(directory):\n",
    "    os.makedirs(directory)\n",
    "MODEL_ID = mode + \"%s_%s\"%(DEPTH, WIDTH)\n",
    "print(MODEL_ID)\n",
    "\n",
    "trainer.save_checkpoint(\"%s/%s.ckpt\"%(directory, MODEL_ID))\n",
    "torch.save(model.state_dict(), \"%s/%s.pt\"%(directory, MODEL_ID))\n",
    "\n",
    "\n"
   ]
  },
  {
   "cell_type": "code",
   "execution_count": 8,
   "id": "6c37a784",
   "metadata": {},
   "outputs": [
    {
     "name": "stdout",
     "output_type": "stream",
     "text": [
      "0.00075531425\n"
     ]
    }
   ],
   "source": [
    "from folk_utils import evaluate_accuracy, evaluate_delta_PGD, evaluate_delta_IBP\n",
    "from folk_utils import compute_DIF_certification\n",
    "lp_epsilon = torch.Tensor(lp_epsilon)\n",
    "X_test = torch.Tensor(X_test)\n",
    "y_test = torch.Tensor(y_test)\n",
    "ibp = evaluate_delta_IBP(model, X_test, y_test, lp_epsilon, 0.025, 2)\n",
    "print(ibp)"
   ]
  },
  {
   "cell_type": "code",
   "execution_count": 9,
   "id": "22d79fcb",
   "metadata": {},
   "outputs": [
    {
     "name": "stderr",
     "output_type": "stream",
     "text": [
      "/Users/matthewwicker/Desktop/Development/CertificationOfDistributionalIF/Folktables/folk_utils.py:626: UserWarning: Creating a tensor from a list of numpy.ndarrays is extremely slow. Please consider converting the list to a single numpy.ndarray with numpy.array() before converting to a tensor. (Triggered internally at  /Users/runner/work/_temp/anaconda/conda-bld/pytorch_1659484744261/work/torch/csrc/utils/tensor_new.cpp:204.)\n",
      "  v = torch.Tensor([f_epsilon.numpy() for i in range(N)]).float()\n",
      "100%|███████████████████████████████████████| 1000/1000 [01:49<00:00,  9.14it/s]\n"
     ]
    },
    {
     "name": "stdout",
     "output_type": "stream",
     "text": [
      "0.009971866384148598\n"
     ]
    },
    {
     "name": "stderr",
     "output_type": "stream",
     "text": [
      "100%|███████████████████████████████████████| 1000/1000 [01:53<00:00,  8.83it/s]\n"
     ]
    },
    {
     "name": "stdout",
     "output_type": "stream",
     "text": [
      "0.03884825482964516\n"
     ]
    },
    {
     "name": "stderr",
     "output_type": "stream",
     "text": [
      "100%|███████████████████████████████████████| 1000/1000 [01:54<00:00,  8.76it/s]"
     ]
    },
    {
     "name": "stdout",
     "output_type": "stream",
     "text": [
      "0.04548420384526253\n"
     ]
    },
    {
     "name": "stderr",
     "output_type": "stream",
     "text": [
      "\n"
     ]
    }
   ],
   "source": [
    "\n",
    "dro1, ibp_trend, vg = compute_DIF_certification(model, lp_epsilon, 0.075, 0.025, X_test, y_test, lr = 0.1, N=200, iters=1000, rettrend=True)\n",
    "print(dro1)\n",
    "dro1, ibp_trend, vg = compute_DIF_certification(model, lp_epsilon, 0.075, 0.025, X_test, y_test, lr = 10, N=200, iters=1000, rettrend=True)\n",
    "print(dro1)\n",
    "dro1, ibp_trend, vg = compute_DIF_certification(model, lp_epsilon, 0.075, 0.025, X_test, y_test, lr = 1000, N=200, iters=1000, rettrend=True)\n",
    "print(dro1)\n"
   ]
  },
  {
   "cell_type": "code",
   "execution_count": 10,
   "id": "0f83d985",
   "metadata": {},
   "outputs": [
    {
     "name": "stderr",
     "output_type": "stream",
     "text": [
      "100%|███████████████████████████████████████| 1000/1000 [01:52<00:00,  8.88it/s]\n"
     ]
    },
    {
     "name": "stdout",
     "output_type": "stream",
     "text": [
      "tensor(0.0008, grad_fn=<MeanBackward0>)\n"
     ]
    },
    {
     "name": "stderr",
     "output_type": "stream",
     "text": [
      "100%|███████████████████████████████████████| 1000/1000 [01:51<00:00,  8.93it/s]\n"
     ]
    },
    {
     "name": "stdout",
     "output_type": "stream",
     "text": [
      "tensor(0.0008, grad_fn=<MeanBackward0>)\n"
     ]
    },
    {
     "name": "stderr",
     "output_type": "stream",
     "text": [
      "100%|███████████████████████████████████████| 1000/1000 [01:52<00:00,  8.86it/s]"
     ]
    },
    {
     "name": "stdout",
     "output_type": "stream",
     "text": [
      "tensor(0.0008, grad_fn=<MeanBackward0>)\n"
     ]
    },
    {
     "name": "stderr",
     "output_type": "stream",
     "text": [
      "\n"
     ]
    }
   ],
   "source": [
    "from folk_utils import compute_DIF_falsification\n",
    "dro1, ibp_trend = compute_DIF_falsification(model, lp_epsilon, 0.075, 0.025, X_test, y_test, lr = 0.1, N=200, iters=1000, rettrend=True)\n",
    "print(dro1)\n",
    "dro1, ibp_trend = compute_DIF_falsification(model, lp_epsilon, 0.075, 0.025, X_test, y_test, lr = 10, N=200, iters=1000, rettrend=True)\n",
    "print(dro1)\n",
    "dro1, ibp_trend = compute_DIF_falsification(model, lp_epsilon, 0.075, 0.025, X_test, y_test, lr = 1000, N=200, iters=1000, rettrend=True)\n",
    "print(dro1)"
   ]
  },
  {
   "cell_type": "code",
   "execution_count": 11,
   "id": "801adc79",
   "metadata": {},
   "outputs": [
    {
     "data": {
      "text/plain": [
       "[<matplotlib.lines.Line2D at 0x7face8c4b1d0>]"
      ]
     },
     "execution_count": 11,
     "metadata": {},
     "output_type": "execute_result"
    },
    {
     "data": {
      "image/png": "[encoded data removed]",
      "text/plain": [
       "<Figure size 432x288 with 1 Axes>"
      ]
     },
     "metadata": {
      "needs_background": "light"
     },
     "output_type": "display_data"
    }
   ],
   "source": [
    "import matplotlib \n",
    "import matplotlib.pyplot as plt\n",
    "\n",
    "plt.plot(ibp_trend)"
   ]
  },
  {
   "cell_type": "code",
   "execution_count": 12,
   "id": "a9c5b0df",
   "metadata": {},
   "outputs": [
    {
     "name": "stdout",
     "output_type": "stream",
     "text": [
      "tensor(0.0555, grad_fn=<MeanBackward0>)\n"
     ]
    }
   ],
   "source": [
    "\n",
    "from FairCertModule import *\n",
    "def global_pgd_ibp(model, vec, eps, npoints=128, iterations=1000, lr=0.1, nclasses=2):\n",
    "    points = torch.randn((npoints, model.in_dim))\n",
    "    points.requires_grad_()\n",
    "    lab = torch.ones((npoints)).long()\n",
    "    vec = torch.Tensor(vec)\n",
    "    for i in range(iterations):\n",
    "        points.requires_grad_()\n",
    "        with torch.enable_grad():\n",
    "            weights = [t for t in model.parameters()]\n",
    "            logit_l, logit_u = interval_bound_forward(model, weights, points, vec, eps)\n",
    "            v1 = torch.nn.functional.one_hot(lab, num_classes=nclasses)\n",
    "            v2 = 1 - torch.nn.functional.one_hot(lab, num_classes=nclasses)\n",
    "            min_logit = torch.add(torch.multiply(v2, logit_u), torch.multiply(v1, logit_l))\n",
    "            max_logit = torch.add(torch.multiply(v1, logit_u), torch.multiply(v2, logit_l))\n",
    "            min_i_softmax = F.softmax(min_logit, dim=-1)\n",
    "            max_i_softmax = F.softmax(max_logit, dim=-1)\n",
    "            delta = torch.abs((max_i_softmax - min_i_softmax))\n",
    "            loss = torch.mean(delta)\n",
    "        grad = torch.autograd.grad(loss, [points])[0]\n",
    "        #print(\"Grad: \", grad)\n",
    "        points = points + (lr *  torch.sign(grad.detach()))\n",
    "        points = torch.clip(points, -2.5, 2.5)\n",
    "    print(torch.mean(delta))\n",
    "    return points\n",
    "\n",
    "global_worst_case = global_pgd_ibp(model, lp_epsilon, 0.05)\n"
   ]
  },
  {
   "cell_type": "code",
   "execution_count": 13,
   "id": "58b5d68a",
   "metadata": {},
   "outputs": [],
   "source": [
    "# New 2 layer experiments\n",
    "\n",
    "two_layer_widths = [8, 128, 1024]\n",
    "\n",
    "credit_dro_upper = [0.119, 0.224, 0.241, ]\n",
    "\n",
    "adult_dro_upper = [0.0325, 0.23517, 0.29682, 0.245]\n",
    "\n",
    "german_dro_upper = [0.03777, 0.2126, 0.6155, 0.8273]"
   ]
  },
  {
   "cell_type": "code",
   "execution_count": 14,
   "id": "e048c7bd",
   "metadata": {},
   "outputs": [],
   "source": [
    "sizes = [8, 16, 32, 256, 512, 1024, 2048, 4096]\n",
    "adult_times = [43.011, 47.880, 49.758, 61.686, 70.374, 86.382, 116.154, 178.167] \n",
    "credit_times = [24.720, 25.416, 25.970, 37.228, 44.697, 60.636, 82.659, 126.106] \n",
    "german_times = [2.070, 2.1468, 2.1720, 2.4902, 2.6261, 2.840, 3.6319, 4.9928]\n",
    "\n",
    "adult_dro = [213.914, 226.164, 238.306, 363.283, 465.786, 626.370, 930.686, 1617.153]\n",
    "credit_dro = [164.447, 167.181, 178.785, 284.828, 378.492, 526.416, 833.825, 1456.622]\n",
    "german_dro = [10.8215, 10.200, 10.495, 14.657, 15.446, 18.594, 31.932, 45.786]"
   ]
  },
  {
   "cell_type": "code",
   "execution_count": 15,
   "id": "3d15ceb7",
   "metadata": {},
   "outputs": [],
   "source": [
    "widths = [8, 32, 256, 512, 1024]\n",
    "credit_accs = [0.7804, 0.7804, 0.7804, 0.7804]\n",
    "credit_ibps = [0.0018, 0.0013, 0.0012, 0.0012, 0.00026]\n",
    "credit_difs = [0.0233, 0.0232, 0.0158, 0.0141, 0.0021]\n",
    "\n",
    "depths = [1, 2, 3, 4]\n",
    "depth_ibps = [0.0012, 0.0004, 1.1291529e-06, 4.1245717e-06]\n",
    "depth_difs = [0.0158, 0.0567, 0.0855, 0.2583]"
   ]
  },
  {
   "cell_type": "code",
   "execution_count": 16,
   "id": "657073b9",
   "metadata": {},
   "outputs": [],
   "source": [
    "# Adult Results\n",
    "widths = [8, 256, 512, 1024]\n",
    "ibps = [0.00057, 7.5408557e-06, 5.7115263e-05]\n",
    "difs = [0.0318, 0.023, 0.0023, 0.0028]\n",
    "\n",
    "depths = [1, 2, 3, 4]\n",
    "ibps = [9.383e-05, 1.0150286e-05, 1.0150286e-05]\n",
    "difs = [0.0142, 0.2426, 0.4764, 0.822]"
   ]
  },
  {
   "cell_type": "code",
   "execution_count": 17,
   "id": "f5b25fcf",
   "metadata": {},
   "outputs": [],
   "source": [
    "# German results\n",
    "depths = [1,2,3,4]\n",
    "difs = [0.0932, 0.3653, 0.4995, 0.6598]\n",
    "\n",
    "widths = [8, 256, 512, 1024]\n",
    "difs = [0.0994, 0.0552, 0.0282, 0.0234]"
   ]
  }
 ],
 "metadata": {
  "kernelspec": {
   "display_name": "Python 3 (ipykernel)",
   "language": "python",
   "name": "python3"
  },
  "language_info": {
   "codemirror_mode": {
    "name": "ipython",
    "version": 3
   },
   "file_extension": ".py",
   "mimetype": "text/x-python",
   "name": "python",
   "nbconvert_exporter": "python",
   "pygments_lexer": "ipython3",
   "version": "3.7.13"
  }
 },
 "nbformat": 4,
 "nbformat_minor": 5
}
