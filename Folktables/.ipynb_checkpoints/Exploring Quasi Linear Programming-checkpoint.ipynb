{
 "cells": [
  {
   "cell_type": "code",
   "execution_count": 1,
   "id": "d557c452",
   "metadata": {},
   "outputs": [],
   "source": [
    "# Load in the packages\n",
    "import numpy as np\n",
    "import folktables\n",
    "from folktables import ACSDataSource, ACSIncome\n",
    "\n",
    "import os\n",
    "import sys\n",
    "import copy\n",
    "sys.path.append('..')\n",
    "import random\n",
    "import FairCertModule\n",
    "from sklearn.preprocessing import StandardScaler\n",
    "from sklearn.model_selection import train_test_split\n",
    "\n",
    "import torch\n",
    "import torch.nn as nn\n",
    "import torch.optim as optim\n",
    "from torch.nn import functional as F\n",
    "from torch.utils.data import Dataset\n",
    "from torch.utils.data import DataLoader\n",
    "from torchvision import models, transforms\n",
    "from FullyConnected import FullyConnected\n",
    "import pytorch_lightning as pl\n",
    "\n",
    "# Set random seeds\n",
    "SEED = 0\n",
    "torch.manual_seed(SEED)\n",
    "random.seed(SEED)\n",
    "np.random.seed(SEED)\n",
    "\n",
    "dataset = \"Folk\"\n",
    "if(dataset == \"Coverage\"):\n",
    "    TEST_EPSILON = 0.15\n",
    "else:\n",
    "    TEST_EPSILON = 0.05   \n"
   ]
  },
  {
   "cell_type": "code",
   "execution_count": 2,
   "id": "6fb1c6f3",
   "metadata": {},
   "outputs": [
    {
     "name": "stderr",
     "output_type": "stream",
     "text": [
      "/Users/matthewwicker/opt/anaconda3/envs/FairnessEnv/lib/python3.7/site-packages/sklearn/decomposition/_truncated_svd.py:234: RuntimeWarning: invalid value encountered in true_divide\n",
      "  self.explained_variance_ratio_ = exp_var / full_var\n"
     ]
    }
   ],
   "source": [
    "# Data loaders\n",
    "import folk_utils\n",
    "X_train, X_test, X_val, y_train, y_test, y_val, lp_epsilon, sr_epsilon = folk_utils.get_dataset(dataset)\n",
    "f_epsilon = lp_epsilon"
   ]
  },
  {
   "cell_type": "code",
   "execution_count": 3,
   "id": "1996d63c",
   "metadata": {},
   "outputs": [],
   "source": [
    "# Load in the trained models\n",
    "\n",
    "MODEL_STATE  = 'CA'\n",
    "MODEL_YEAR   = '2015'\n",
    "MODEL_WIDTH  = '256'\n",
    "MODEL_METRIC = 'LP'\n",
    "\n",
    "sgd_id = \"Toy\" \n",
    "#pgd_id = \"FAIR-PGD\" \n",
    "##ibp_id = \"FAIR-IBP\" \n",
    "#glob_id = \"FAIR-DRO\"\n",
    "ibpg_id = \"FAIR-IBPG\"\n",
    "\n",
    "def load_model_from_id(model_id, dataset, width=MODEL_WIDTH):\n",
    "    if(model_id == \"Toy\"):\n",
    "        model = FullyConnected(hidden_lay=2, hidden_dim=16, dataset=dataset)\n",
    "    else:\n",
    "        model = FullyConnected(hidden_lay=2, hidden_dim=256, dataset=dataset)\n",
    "    ckpt = torch.load(\"%sModels/%s.ckpt\"%(dataset, model_id))\n",
    "    optimizer = optim.SGD(model.parameters(), lr=0.001, momentum=0.9)\n",
    "    checkpoint = torch.load(\"%sModels/%s.ckpt\"%(dataset, model_id))\n",
    "    model.load_state_dict(torch.load('%sModels/%s.pt'%(dataset, model_id)))\n",
    "    return model\n",
    "\n",
    "toy_model = load_model_from_id(sgd_id, dataset)\n",
    "#pgd_model = load_model_from_id(pgd_id, dataset)\n",
    "#ibp_model = load_model_from_id(ibp_id, dataset)\n",
    "#glob_model = load_model_from_id(glob_id, dataset)\n",
    "ibpg_model = load_model_from_id(ibpg_id, dataset)\n"
   ]
  },
  {
   "cell_type": "code",
   "execution_count": 4,
   "id": "49d3863d",
   "metadata": {},
   "outputs": [],
   "source": [
    "def form_lp(model, c, initial_bounds, bounds):\n",
    "    \"\"\"\n",
    "    https://adversarial-ml-tutorial.org/adversarial_examples/\n",
    "    \"\"\"\n",
    "    linear_layers = [(layer, bound) for layer, bound in zip(model.lays,bounds) if isinstance(layer, nn.Linear)]\n",
    "    d = len(linear_layers)-1\n",
    "    \n",
    "    # create cvxpy variables\n",
    "    z = ([cp.Variable(layer.in_features) for layer, _ in linear_layers] + \n",
    "         [cp.Variable(linear_layers[-1][0].out_features)])\n",
    "    v = [cp.Variable(layer.out_features) for layer, _ in linear_layers[:-1]]\n",
    "    \n",
    "    # extract relevant matrices\n",
    "    W = [layer.weight.detach().cpu().numpy() for layer,_ in linear_layers]\n",
    "    b = [layer.bias.detach().cpu().numpy() for layer,_ in linear_layers]\n",
    "    l = [l[0].detach().cpu().numpy() for _, (l,_) in linear_layers]\n",
    "    u = [u[0].detach().cpu().numpy() for _, (_,u) in linear_layers]\n",
    "    l0 = initial_bound[0][0].view(-1).detach().cpu().numpy()\n",
    "    u0 = initial_bound[1][0].view(-1).detach().cpu().numpy()\n",
    "    \n",
    "    # add ReLU constraints\n",
    "    constraints = []\n",
    "    for i in range(len(linear_layers)-1):\n",
    "        constraints += [z[i+1] >= W[i] @ z[i] + b[i], \n",
    "                        z[i+1] >= 0,\n",
    "                        cp.multiply(v[i], u[i]) >= z[i+1],\n",
    "                        W[i] @ z[i] + b[i] >= z[i+1] + cp.multiply((1-v[i]), l[i]),\n",
    "                        v[i] >= 0,\n",
    "                        v[i] <= 1]\n",
    "    \n",
    "    # final linear constraint\n",
    "    constraints += [z[d+1] == W[d] @ z[d] + b[d]]\n",
    "    \n",
    "    # initial bound constraints\n",
    "    constraints += [z[0] >= l0, z[0] <= u0]\n",
    "    \n",
    "    return cp.Problem(cp.Minimize(c @ z[d+1]), constraints), (z, v)\n",
    "\n",
    "import cvxpy as cp\n",
    "\n",
    "def form_milp(model, c, initial_bounds, bounds, maximize=True):\n",
    "    linear_layers = [(layer, bound) for layer, bound in zip(model.lays,bounds) if isinstance(layer, nn.Linear)]\n",
    "    d = len(linear_layers)-1\n",
    "    \n",
    "    # create cvxpy variables\n",
    "    z = ([cp.Variable(layer.in_features) for layer, _ in linear_layers] + \n",
    "         [cp.Variable(linear_layers[-1][0].out_features)])\n",
    "    v = [cp.Variable(layer.out_features, boolean=True) for layer, _ in linear_layers[:-1]]\n",
    "    \n",
    "    # extract relevant matrices\n",
    "    W = [layer.weight.detach().cpu().numpy() for layer,_ in linear_layers]\n",
    "    b = [layer.bias.detach().cpu().numpy() for layer,_ in linear_layers]\n",
    "    l = [l[0].detach().cpu().numpy() for _, (l,_) in linear_layers]\n",
    "    u = [u[0].detach().cpu().numpy() for _, (_,u) in linear_layers]\n",
    "    l0 = initial_bound[0][0].view(-1).detach().cpu().numpy()\n",
    "    u0 = initial_bound[1][0].view(-1).detach().cpu().numpy()\n",
    "    \n",
    "    # add ReLU constraints\n",
    "    constraints = []\n",
    "    for i in range(len(linear_layers)-1):\n",
    "        constraints += [z[i+1] >= W[i] @ z[i] + b[i], \n",
    "                        z[i+1] >= 0,\n",
    "                        cp.multiply(v[i], u[i]) >= z[i+1],\n",
    "                        W[i] @ z[i] + b[i] >= z[i+1] + cp.multiply((1-v[i]), l[i])]\n",
    "    \n",
    "    # final linear constraint\n",
    "    constraints += [z[d+1] == W[d] @ z[d] + b[d]]\n",
    "    \n",
    "    # initial bound constraints\n",
    "    constraints += [z[0] >= l0, z[0] <= u0]\n",
    "    if(maximize):\n",
    "        return cp.Problem(cp.Maximize(c @ z[d+1]), constraints), (z, v)\n",
    "    else:\n",
    "        return cp.Problem(cp.Minimize(c @ z[d+1]), constraints), (z, v)\n",
    "\n",
    "def bound_propagation(model, initial_bound):\n",
    "    l, u = initial_bound\n",
    "    bounds = []\n",
    "    \n",
    "    for layer in model.lays:\n",
    "        #if isinstance(layer, nn.Linear):\n",
    "        #    l_ = (layer.weight.clamp(min=0).float() @ l.t().float() + layer.weight.clamp(max=0).float() @ u.t().float() \n",
    "        #          + layer.bias[:,None]).t().float()\n",
    "        #    u_ = (layer.weight.clamp(min=0) @ u.t().float() + layer.weight.clamp(max=0).float() @ l.t().float() \n",
    "        #          + layer.bias[:,None]).t().float()\n",
    "        if isinstance(layer, nn.Linear):\n",
    "            x_mu = ((u + l) / 2).float()\n",
    "            x_r = ((u - l) / 2).float()\n",
    "            h_mu = torch.matmul(x_mu, layer.weight.T.float())\n",
    "            x_rad = torch.matmul(x_r, torch.abs(layer.weight).T.float())\n",
    "            u_ = h_mu + x_rad + layer.bias.float()\n",
    "            l_ = h_mu - x_rad + layer.bias.float()\n",
    "        elif isinstance(layer, nn.ReLU):\n",
    "            l_ = l.clamp(min=0)\n",
    "            u_ = u.clamp(min=0)\n",
    "            \n",
    "        bounds.append((l_, u_))\n",
    "        l,u = l_, u_\n",
    "    return bounds"
   ]
  },
  {
   "cell_type": "code",
   "execution_count": 5,
   "id": "3ecb54c7",
   "metadata": {},
   "outputs": [],
   "source": [
    "INDEX = 100\n",
    "c = np.zeros(2)\n",
    "c[1] = 1\n",
    "c[0] = 1\n",
    "\n",
    "initial_bound = ((X_test[INDEX:INDEX+1] - (f_epsilon*0.15)), (X_test[INDEX:INDEX+1] + (f_epsilon*0.15)))\n",
    "bounds = bound_propagation(toy_model, initial_bound)\n",
    "\n",
    "\n",
    "\n"
   ]
  },
  {
   "cell_type": "code",
   "execution_count": 6,
   "id": "9d00944e",
   "metadata": {},
   "outputs": [
    {
     "name": "stdout",
     "output_type": "stream",
     "text": [
      "Objective value: -0.024812125140435792\n",
      "Last layer from relaxation: [ 0.2502784  -0.27509053]\n"
     ]
    }
   ],
   "source": [
    "initial_bound = ((X_test[INDEX:INDEX+1] - (f_epsilon*0.15)), (X_test[INDEX:INDEX+1] + (f_epsilon*0.15)))\n",
    "bounds = bound_propagation(toy_model, initial_bound)\n",
    "prob, (z, v) = form_milp(toy_model, c, initial_bound, bounds, maximize=True)\n",
    "print(\"Objective value:\", prob.solve(solver=cp.CPLEX))\n",
    "print(\"Last layer from relaxation:\", z[-1].value)\n"
   ]
  },
  {
   "cell_type": "code",
   "execution_count": 7,
   "id": "1914055f",
   "metadata": {},
   "outputs": [
    {
     "name": "stdout",
     "output_type": "stream",
     "text": [
      "(tensor([[-1.4584,  1.5563]], grad_fn=<AddBackward0>), tensor([[-1.4584,  1.5563]], grad_fn=<AddBackward0>))\n",
      "Objective value: -inf\n",
      "Last layer from relaxation: None\n",
      "Objective value: inf\n",
      "Last layer from relaxation: None\n"
     ]
    }
   ],
   "source": [
    "initial_bound = ((X_test[INDEX:INDEX+1] - (f_epsilon*0.0)), (X_test[INDEX:INDEX+1] + (f_epsilon*0.0)))\n",
    "bounds = bound_propagation(toy_model, initial_bound)\n",
    "\n",
    "bounds = bound_propagation(ibpg_model, initial_bound)\n",
    "print(bounds[-1])\n",
    "prob, (z, v) = form_milp(ibpg_model, c, initial_bound, bounds, maximize=True)\n",
    "print(\"Objective value:\", prob.solve(solver=cp.GLPK_MI))\n",
    "print(\"Last layer from relaxation:\", z[-1].value)\n",
    "\n",
    "prob, (z, v) = form_milp(ibpg_model, c, initial_bound, bounds, maximize=False)\n",
    "print(\"Objective value:\", prob.solve(solver=cp.GLPK_MI))\n",
    "print(\"Last layer from relaxation:\", z[-1].value)"
   ]
  },
  {
   "cell_type": "code",
   "execution_count": 8,
   "id": "e31c7742",
   "metadata": {},
   "outputs": [
    {
     "name": "stdout",
     "output_type": "stream",
     "text": [
      "(tensor([[-1.4584,  1.5563]], grad_fn=<AddBackward0>), tensor([[-1.4584,  1.5563]], grad_fn=<AddBackward0>))\n",
      "Objective value: -inf\n",
      "Last layer from relaxation: None\n"
     ]
    }
   ],
   "source": [
    "initial_bound = ((X_test[INDEX:INDEX+1] - (f_epsilon*0.0)), (X_test[INDEX:INDEX+1] + (f_epsilon*0.0)))\n",
    "bounds = bound_propagation(ibpg_model, initial_bound)\n",
    "print(bounds[-1])\n",
    "prob, (z, v) = form_milp(ibpg_model, c, initial_bound, bounds)\n",
    "print(\"Objective value:\", prob.solve(solver=cp.GLPK_MI))\n",
    "print(\"Last layer from relaxation:\", z[-1].value)"
   ]
  },
  {
   "cell_type": "code",
   "execution_count": 44,
   "id": "a75a8f24",
   "metadata": {},
   "outputs": [
    {
     "name": "stdout",
     "output_type": "stream",
     "text": [
      "tensor([0.0451], grad_fn=<MeanBackward1>)\n"
     ]
    }
   ],
   "source": [
    "from folk_utils import I\n",
    "INDEX = 21\n",
    "values = []\n",
    "for eps in np.linspace(0.05, 1, 100):\n",
    "    v = I(ibpg_model, X_test[INDEX:INDEX+1].float(), y_test[INDEX:INDEX+1].long(), f_epsilon, eps, 2)\n",
    "    values.append(float(v.detach().numpy()))\n",
    "print(v)"
   ]
  },
  {
   "cell_type": "code",
   "execution_count": 45,
   "id": "1fb3cd15",
   "metadata": {},
   "outputs": [
    {
     "data": {
      "image/png": "[encoded data removed]",
      "text/plain": [
       "<Figure size 432x288 with 1 Axes>"
      ]
     },
     "metadata": {
      "needs_background": "light"
     },
     "output_type": "display_data"
    }
   ],
   "source": [
    "import matplotlib\n",
    "import matplotlib.pyplot as plt\n",
    "\n",
    "plt.plot(values)\n",
    "plt.show()"
   ]
  },
  {
   "cell_type": "code",
   "execution_count": 62,
   "id": "84a03a66",
   "metadata": {},
   "outputs": [
    {
     "name": "stderr",
     "output_type": "stream",
     "text": [
      "100%|████████████████████████████████████████████████████████████████████████| 1000/1000 [03:51<00:00,  4.32it/s]\n"
     ]
    }
   ],
   "source": [
    "from tqdm import trange\n",
    "def g(val, index=0):\n",
    "    return I(ibpg_model, X_test[INDEX:INDEX+1].float(), y_test[INDEX:INDEX+1].long(), f_epsilon, val, 2)\n",
    "\n",
    "#𝑔(𝜆𝑥+(1−𝜆)𝑦)≤𝜆𝑔(𝑥)+(1−𝜆)𝑔(𝑦)\n",
    "def check_convexity(index):\n",
    "    x=0.05\n",
    "    y=1.00\n",
    "    for lam in np.linspace(0.05, 1, 10):\n",
    "        #print(lam*x + ((1-lam)*y))\n",
    "        value = (g(lam*x + ((1-lam)*y), index=index) <= lam*g(x, index=index) + (1-lam)*g(y, index=index) )\n",
    "        if(value == False):\n",
    "            return False\n",
    "    return True\n",
    "\n",
    "for i in trange(1000):\n",
    "    assert(check_convexity(i))"
   ]
  },
  {
   "cell_type": "code",
   "execution_count": 63,
   "id": "6c4587cf",
   "metadata": {},
   "outputs": [
    {
     "name": "stderr",
     "output_type": "stream",
     "text": [
      "/Users/matthewwicker/Desktop/Development/CertificationOfDistributionalIF/Folktables/folk_utils.py:315: UserWarning: Creating a tensor from a list of numpy.ndarrays is extremely slow. Please consider converting the list to a single numpy.ndarray with numpy.array() before converting to a tensor. (Triggered internally at  /Users/runner/work/_temp/anaconda/conda-bld/pytorch_1659484744261/work/torch/csrc/utils/tensor_new.cpp:204.)\n",
      "  v = torch.Tensor([f_epsilon for i in range(N)]).float()\n",
      "100%|██████████████████████████████████████████████████████████████████████████| 500/500 [00:08<00:00, 59.35it/s]\n"
     ]
    }
   ],
   "source": [
    "from folk_utils import compute_DIF_certification\n",
    "val, trend = compute_DIF_certification(ibpg_model, f_epsilon, 0.025, 0.05, \n",
    "                                       X_test, y_test, N=1000, iters=500, rettrend=True, lr = 0.5)\n",
    "\n",
    "\n"
   ]
  },
  {
   "cell_type": "code",
   "execution_count": null,
   "id": "685cc928",
   "metadata": {},
   "outputs": [],
   "source": [
    "plt.plot(trend)\n",
    "plt.show()"
   ]
  }
 ],
 "metadata": {
  "kernelspec": {
   "display_name": "Python 3 (ipykernel)",
   "language": "python",
   "name": "python3"
  },
  "language_info": {
   "codemirror_mode": {
    "name": "ipython",
    "version": 3
   },
   "file_extension": ".py",
   "mimetype": "text/x-python",
   "name": "python",
   "nbconvert_exporter": "python",
   "pygments_lexer": "ipython3",
   "version": "3.7.13"
  }
 },
 "nbformat": 4,
 "nbformat_minor": 5
}
