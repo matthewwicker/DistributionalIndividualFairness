{
 "cells": [
  {
   "cell_type": "code",
   "execution_count": 1,
   "id": "a3eadd12",
   "metadata": {},
   "outputs": [],
   "source": [
    "# Load in the data for different states (unseen)\n",
    "\n",
    "import numpy as np\n",
    "import folktables\n",
    "from folktables import ACSDataSource, ACSIncome\n",
    "\n",
    "import os\n",
    "import sys\n",
    "import copy\n",
    "sys.path.append('..')\n",
    "import random\n",
    "import models\n",
    "import FairCertModule\n",
    "from sklearn.preprocessing import StandardScaler\n",
    "from sklearn.model_selection import train_test_split\n",
    "\n",
    "import torch\n",
    "import torch.nn as nn\n",
    "import torch.optim as optim\n",
    "from torch.nn import functional as F\n",
    "from torch.utils.data import Dataset\n",
    "from torch.utils.data import DataLoader\n",
    "from torchvision import models, transforms\n",
    "from FullyConnected import FullyConnected\n",
    "import pytorch_lightning as pl\n",
    "\n",
    "SEED = 0\n",
    "torch.manual_seed(SEED)\n",
    "random.seed(SEED)\n",
    "np.random.seed(SEED)\n",
    "\n",
    "\n",
    "TEST_EPSILON = 0.05\n",
    "\n",
    "CustomIncome = folktables.BasicProblem(\n",
    "    features=[\n",
    "        'AGEP', 'COW', 'SCHL', 'MAR', 'OCCP', 'POBP', 'WKHP','SEX', #'RAC1P',\n",
    "    ],\n",
    "    target='PINCP',\n",
    "    target_transform=lambda x: x > 25000,    \n",
    "    group='RAC1P',\n",
    "    preprocess=folktables.adult_filter,\n",
    "    postprocess=lambda x: np.nan_to_num(x, -1),\n",
    ")\n"
   ]
  },
  {
   "cell_type": "code",
   "execution_count": 2,
   "id": "d7926c48",
   "metadata": {},
   "outputs": [],
   "source": [
    "\n",
    "def get_data_states(year):\n",
    "    data_source = ACSDataSource(survey_year=year, horizon='1-Year', survey='person')\n",
    "    state_X_tests = []\n",
    "    state_y_tests = []\n",
    "    states = [\"AL\", \"AK\", \"AZ\", \"AR\", \"CA\", \"CO\", \"CT\", \"DE\", \"FL\", \"GA\", \n",
    "          \"HI\", \"ID\", \"IL\", \"IN\", \"IA\", \"KS\", \"KY\", \"LA\", \"ME\", \"MD\", \n",
    "          \"MA\", \"MI\", \"MN\", \"MS\", \"MO\", \"MT\", \"NE\", \"NV\", \"NH\", \"NJ\", \n",
    "          \"NM\", \"NY\", \"NC\", \"ND\", \"OH\", \"OK\", \"OR\", \"PA\", \"RI\", \"SC\", \n",
    "          \"SD\", \"TN\", \"TX\", \"UT\", \"VT\", \"VA\", \"WA\", \"WV\", \"WI\", \"WY\"]\n",
    "    for state in states:\n",
    "        print(\"Loading for \", state)\n",
    "        state_data = data_source.get_data(states=[state], download=True)\n",
    "        features, labels, _ = CustomIncome.df_to_numpy(state_data)\n",
    "        X_train, X_test, y_train, y_test = train_test_split(features, labels, test_size=0.5, random_state=42)\n",
    "        #X_test = features; y_test = labels\n",
    "        scaler = StandardScaler()\n",
    "        scaled_data = scaler.fit_transform(X_train)\n",
    "        X_test = scaler.transform(X_test)\n",
    "        state_X_tests.append(X_test)\n",
    "        state_y_tests.append(y_test)\n",
    "    return state_X_tests, state_y_tests\n"
   ]
  },
  {
   "cell_type": "code",
   "execution_count": 3,
   "id": "97dd77a0",
   "metadata": {},
   "outputs": [],
   "source": [
    "# Load in the data for different years (unseen)\n",
    "\n",
    "def get_data_years(state):\n",
    "    year_X_tests = []\n",
    "    year_y_tests = []\n",
    "    years = ['2015', '2016', '2017', '2018', '2019', '2020', '2021']\n",
    "    for year in years:\n",
    "        try:\n",
    "            data_source = ACSDataSource(survey_year=year, horizon='1-Year', survey='person')\n",
    "            state_data = data_source.get_data(states=[state], download=True)\n",
    "            features, labels, _ = CustomIncome.df_to_numpy(state_data)\n",
    "            X_train, X_test, y_train, y_test = train_test_split(features, labels, test_size=0.5, random_state=42)\n",
    "            #X_test = features; y_test = labels\n",
    "            scaler = StandardScaler()\n",
    "            scaled_data = scaler.fit_transform(X_train)\n",
    "            X_test = scaler.transform(X_test)\n",
    "            year_X_tests.append(X_test)\n",
    "            year_y_tests.append(y_test)\n",
    "        except:\n",
    "            pass\n",
    "    return year_X_tests, year_y_tests\n"
   ]
  },
  {
   "cell_type": "code",
   "execution_count": 4,
   "id": "5e37918b",
   "metadata": {},
   "outputs": [],
   "source": [
    "# Load in different networks\n",
    "\n",
    "MODEL_STATE  = 'CA'\n",
    "MODEL_YEAR   = '2015'\n",
    "MODEL_WIDTH  = '256'\n",
    "MODEL_METRIC = 'LP'\n",
    "\n",
    "# SGD\n",
    "sgd_id = \"SGD\" #'FCN_s=%s_y=%s_w=%s_f=%s_m=%s'%(MODEL_STATE, MODEL_YEAR, MODEL_WIDTH, \"NONE\", \"NONE\")\n",
    "\n",
    "# Fair-PGD\n",
    "pgd_id = \"FAIR-PGD\" #'FCN_s=%s_y=%s_w=%s_f=%s_m=%s'%(MODEL_STATE, MODEL_YEAR, MODEL_WIDTH, MODEL_METRIC, \"FAIR-PGD\")\n",
    "\n",
    "# Fair-IBP\n",
    "ibp_id = \"FAIR-IBP\" #'FCN_s=%s_y=%s_w=%s_f=%s_m=%s'%(MODEL_STATE, MODEL_YEAR, MODEL_WIDTH, MODEL_METRIC, \"FAIR-IBP\")\n",
    "\n",
    "glob_id = \"FAIR-GLOB\"\n",
    "\n",
    "def load_model_from_id(model_id, width=MODEL_WIDTH):\n",
    "    #model = FullyConnected(hidden_lay=2, hidden_dim=int(MODEL_WIDTH),  learning_rate = 0.001, mode='FAIR-IBP')\n",
    "    model = FullyConnected(hidden_lay=2, hidden_dim=256)\n",
    "    ckpt = torch.load(\"FolkModels/%s.ckpt\"%(model_id))\n",
    "    optimizer = optim.SGD(model.parameters(), lr=0.001, momentum=0.9)\n",
    "    checkpoint = torch.load(\"FolkModels/%s.ckpt\"%(model_id))\n",
    "    model.load_state_dict(torch.load('FolkModels/%s.pt'%(model_id)))\n",
    "    return model\n",
    "\n",
    "sgd_model = load_model_from_id(sgd_id)\n",
    "pgd_model = load_model_from_id(pgd_id)\n",
    "ibp_model = load_model_from_id(ibp_id)\n",
    "glob_model = load_model_from_id(glob_id)\n"
   ]
  },
  {
   "cell_type": "code",
   "execution_count": 6,
   "id": "64645cf4",
   "metadata": {},
   "outputs": [],
   "source": [
    "data_source = ACSDataSource(survey_year='2015', horizon='1-Year', survey='person')\n",
    "CustomIncome = folktables.BasicProblem(\n",
    "    features=[\n",
    "        'AGEP', 'COW', 'SCHL', 'MAR', 'OCCP', 'POBP', 'WKHP','SEX', #'RAC1P',\n",
    "    ],\n",
    "    target='PINCP',\n",
    "    target_transform=lambda x: x > 25000,    \n",
    "    group='RAC1P',\n",
    "    preprocess=folktables.adult_filter,\n",
    "    postprocess=lambda x: np.nan_to_num(x, -1),\n",
    ")\n",
    "ca_data = data_source.get_data(states=[\"CA\"], download=True)\n",
    "features, labels, _ = CustomIncome.df_to_numpy(ca_data)\n",
    "X_train, X_test, y_train, y_test = train_test_split(features, labels, test_size=0.2, random_state=42)\n",
    "\n",
    "scaler = StandardScaler()\n",
    "scaled_data = scaler.fit_transform(X_train)\n",
    "X_train = scaler.transform(X_train)\n",
    "X_test = scaler.transform(X_test)\n",
    "\n",
    "y_train = y_train.astype(int)\n",
    "y_test  = y_test.astype(int)\n",
    "\n",
    "f_epsilon = FairCertModule.get_explore_intervals(X_test, y_test, sens_maj_inds=[-1],\n",
    "                                              sens_min_inds=[-1], use_sens=False, eps=1)\n",
    "f_epsilon /= sum(f_epsilon)\n",
    "f_epsilon /= np.median(f_epsilon)\n",
    "    \n",
    "X_test = X_test[:,:-1]\n",
    "X_test = torch.Tensor(X_test)\n",
    "y_test = torch.Tensor(y_test).type(torch.LongTensor)"
   ]
  },
  {
   "cell_type": "code",
   "execution_count": 10,
   "id": "ea1f2efd",
   "metadata": {},
   "outputs": [
    {
     "name": "stdout",
     "output_type": "stream",
     "text": [
      "tensor(0.7575)\n"
     ]
    }
   ],
   "source": [
    "\n",
    "def evaluate_accuracy(model, X_test, y_test):\n",
    "    #y_pred = torch.Tensor(model.predict(X_test))\n",
    "    #y_test = torch.Tensor(y_test)\n",
    "    y_pred = model.predict(X_test)\n",
    "    y_pred = torch.Tensor(y_pred)\n",
    "    acc = torch.sum(torch.eq(torch.argmax(y_pred, -1), y_test).to(torch.float32)) / len(y_test)\n",
    "    return acc\n",
    "\n",
    "sgd_acc = evaluate_accuracy(sgd_model, X_test, y_test)\n",
    "pgd_acc = evaluate_accuracy(pgd_model, X_test, y_test)\n",
    "ibp_acc = evaluate_accuracy(ibp_model, X_test, y_test)\n",
    "glob_acc = evaluate_accuracy(glob_model, X_test, y_test)\n",
    "\n",
    "print(glob_acc)"
   ]
  },
  {
   "cell_type": "code",
   "execution_count": 44,
   "id": "93b91463",
   "metadata": {},
   "outputs": [],
   "source": [
    "from FairCertModule import * \n",
    "\n",
    "def I(model, inp, lab, vec, eps, nclasses, ret_max=True):\n",
    "    \"\"\"\n",
    "    This class only works for binary classification at the moment. Can be generalized\n",
    "    with a bit of effort modifying the for loop.\n",
    "    \"\"\"\n",
    "    weights = [t for t in model.parameters()]\n",
    "    logit_l, logit_u = interval_bound_forward(model, weights, inp, vec, eps)\n",
    "    worst_delta = 0\n",
    "    v1 = torch.nn.functional.one_hot(lab, num_classes=nclasses)\n",
    "    v2 = 1 - torch.nn.functional.one_hot(lab, num_classes=nclasses)\n",
    "    min_logit = torch.add(torch.multiply(v2, logit_u), torch.multiply(v1, logit_l))\n",
    "    max_logit = torch.add(torch.multiply(v1, logit_u), torch.multiply(v2, logit_l))\n",
    "    min_i_softmax = F.softmax(min_logit, dim=-1)\n",
    "    max_i_softmax = F.softmax(max_logit, dim=-1)\n",
    "    delta = (max_i_softmax - min_i_softmax)\n",
    "    delta = torch.abs(delta)\n",
    "    #if(ret_max):\n",
    "    #    return np.max(np.max(delta, axis=1))\n",
    "    #else:\n",
    "    return torch.mean(delta, axis=1)"
   ]
  },
  {
   "cell_type": "code",
   "execution_count": 185,
   "id": "41d58efc",
   "metadata": {},
   "outputs": [],
   "source": [
    "\"\"\"\n",
    "An implimentation of a projected subgradient method \n",
    "for computing the distributional individual fairness\n",
    "certification.\n",
    "\"\"\"\n",
    "from tqdm import trange\n",
    "\n",
    "def compute_DIF_certification(model, f_epsilon, gamma, delta, X_test, y_test, N=1000, iters=500, rettrend=False):\n",
    "    convergence_trend = []\n",
    "    vg = torch.Tensor([[ delta+(l*random.uniform(0, 1)) for i in range(N)]]).T\n",
    "    vg.requires_grad_()\n",
    "    v = torch.Tensor([f_epsilon for i in range(N)]).float()\n",
    "    X = X_test[0:N].float()\n",
    "    y = y_test[0:N].long()\n",
    "    lr = 2.0\n",
    "    lr *= gamma\n",
    "    for i in trange(iters):\n",
    "        vg.requires_grad_()\n",
    "        with torch.enable_grad():\n",
    "            eps = I(model, X, y, v, vg, 2) \n",
    "        eps.mean().backward()\n",
    "        g = vg.grad\n",
    "        vg = vg.detach()\n",
    "        vg = vg + (lr*(g/torch.norm(g)))\n",
    "        n = torch.mean(vg)\n",
    "        if(n > gamma):\n",
    "            vg /= n\n",
    "            vg *= gamma\n",
    "        # n.b. this projection step is sound, but not perhaps as tight as it could be\n",
    "        vg = torch.clip(vg, delta, 1e3) # clipping up any values that shrunk below delta\n",
    "        convergence_trend.append(float(eps.mean()))\n",
    "    if(rettrend):\n",
    "        return eps.mean(), convergence_trend\n",
    "    else:\n",
    "        return eps.mean()\n",
    "\n",
    "#sgd_dif = compute_DIF_certification(sgd_model, f_epsilon, 0.1, 0.05, X_test, y_test)\n",
    "#pgd_dif = compute_DIF_certification(pgd_model, f_epsilon, 0.1, 0.05, X_test, y_test)\n",
    "#ibp_dif = compute_DIF_certification(ibp_model, f_epsilon, 0.1, 0.05, X_test, y_test)\n",
    "#glo_dif = compute_DIF_certification(glob_model, f_epsilon, 0.1, 0.05, X_test, y_test)\n"
   ]
  },
  {
   "cell_type": "code",
   "execution_count": 174,
   "id": "e00ad01c",
   "metadata": {},
   "outputs": [
    {
     "name": "stdout",
     "output_type": "stream",
     "text": [
      "0.955\n",
      "0.758\n",
      "0.075\n",
      "0.055\n"
     ]
    }
   ],
   "source": [
    "print(np.round(float(sgd_dif), 3))\n",
    "print(np.round(float(pgd_dif), 3))\n",
    "print(np.round(float(ibp_dif), 3))\n",
    "print(np.round(float(glo_dif), 3))"
   ]
  },
  {
   "cell_type": "code",
   "execution_count": 186,
   "id": "ec78c9ab",
   "metadata": {},
   "outputs": [
    {
     "name": "stderr",
     "output_type": "stream",
     "text": [
      "100%|█████████████████████████████████████████| 500/500 [00:08<00:00, 59.25it/s]"
     ]
    },
    {
     "name": "stdout",
     "output_type": "stream",
     "text": [
      "tensor(0.0268, grad_fn=<MeanBackward0>)\n"
     ]
    },
    {
     "name": "stderr",
     "output_type": "stream",
     "text": [
      "\n"
     ]
    }
   ],
   "source": [
    "import copy\n",
    "def compute_DIF_falsification(model, f_epsilon, gamma, delta, X_test, y_test, N=1000, iters=500, rettrend=False):\n",
    "    convergence_trend = []\n",
    "    vg = torch.Tensor([[ delta for i in range(N)]]).T\n",
    "    vg.requires_grad_()\n",
    "    v = torch.Tensor([f_epsilon for i in range(N)]).float()\n",
    "    X = X_test[0:N].float()\n",
    "    X_orig = copy.deepcopy(X)\n",
    "    y = y_test[0:N].long()\n",
    "    lr = 100.0\n",
    "    lr *= gamma\n",
    "    for i in trange(iters):\n",
    "        X.requires_grad_()\n",
    "        with torch.enable_grad():\n",
    "            eps = I(model, X, y, v, vg, 2) \n",
    "        eps.mean().backward()\n",
    "        g = X.grad\n",
    "        X = X.detach()\n",
    "        X = X + (lr * g) #(lr*(g/torch.norm(g)))\n",
    "        # n.b. this projection step is sound, but not perhaps as tight as it could be\n",
    "        X = torch.clip(X, X_orig - 2*gamma, X_orig + 2*gamma) # clipping up any values that shrunk below delta\n",
    "        convergence_trend.append(float(eps.mean()))\n",
    "    if(rettrend):\n",
    "        return eps.mean(), convergence_trend\n",
    "    else:\n",
    "        return eps.mean()\n",
    "\n",
    "sgd_dif = compute_DIF_falsification(glob_model, f_epsilon, 0.1, 0.05, X_test, y_test)\n",
    "print(sgd_dif)"
   ]
  },
  {
   "cell_type": "code",
   "execution_count": 199,
   "id": "814b7cef",
   "metadata": {},
   "outputs": [
    {
     "name": "stderr",
     "output_type": "stream",
     "text": [
      "100%|█████████████████████████████████████████| 500/500 [00:08<00:00, 61.79it/s]\n",
      "100%|█████████████████████████████████████████| 500/500 [00:08<00:00, 62.32it/s]\n"
     ]
    }
   ],
   "source": [
    "low_dif, lower_converge = compute_DIF_falsification(sgd_model, f_epsilon, 0.1, 0.05, X_test, y_test, rettrend=True)\n",
    "upp_dif, upper_converge = compute_DIF_certification(sgd_model, f_epsilon, 0.1, 0.05, X_test, y_test, rettrend=True)\n"
   ]
  },
  {
   "cell_type": "code",
   "execution_count": 200,
   "id": "c338e6c3",
   "metadata": {},
   "outputs": [
    {
     "name": "stdout",
     "output_type": "stream",
     "text": [
      "0.14741934835910797\n",
      "0.4\n"
     ]
    },
    {
     "data": {
      "image/png": "[encoded data removed]",
      "text/plain": [
       "<Figure size 432x288 with 1 Axes>"
      ]
     },
     "metadata": {
      "needs_background": "light"
     },
     "output_type": "display_data"
    }
   ],
   "source": [
    "print(low_dif)\n",
    "print(upp_dif)\n",
    "import matplotlib \n",
    "import matplotlib.pyplot as plt\n",
    "\n",
    "plt.plot(lower_converge[1:], c='b')\n",
    "plt.plot(upper_converge[1:], c='r')\n",
    "\n",
    "plt.show()"
   ]
  }
 ],
 "metadata": {
  "kernelspec": {
   "display_name": "Python 3 (ipykernel)",
   "language": "python",
   "name": "python3"
  },
  "language_info": {
   "codemirror_mode": {
    "name": "ipython",
    "version": 3
   },
   "file_extension": ".py",
   "mimetype": "text/x-python",
   "name": "python",
   "nbconvert_exporter": "python",
   "pygments_lexer": "ipython3",
   "version": "3.7.13"
  }
 },
 "nbformat": 4,
 "nbformat_minor": 5
}
